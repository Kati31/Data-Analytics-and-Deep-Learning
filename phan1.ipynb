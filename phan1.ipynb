{
 "cells": [
  {
   "cell_type": "markdown",
   "metadata": {},
   "source": [
    "# LAB 2: BÀI THỰC HÀNH TRÌNH BÀY DỮ LIỆU\n",
    "# Phần 1: Thống Kê Dữ Liệu"
   ]
  },
  {
   "cell_type": "code",
   "execution_count": 5,
   "metadata": {},
   "outputs": [
    {
     "name": "stdout",
     "output_type": "stream",
     "text": [
      "   STT   T1   L1   H1   S1   V1   X1   D1   N1   T2  ...  TBM1  TBM2  TBM3  \\\n",
      "0    1  7.2  7.3  6.3  7.3  7.0  7.9  7.3  5.5  8.4  ...  7.00  7.54  7.01   \n",
      "1    2  5.4  3.9  3.9  4.0  5.4  5.4  5.3  2.8  6.3  ...  4.69  5.47  5.07   \n",
      "2    3  5.6  6.8  7.2  7.5  4.3  7.4  5.8  3.2  5.0  ...  5.77  5.38  6.04   \n",
      "3    4  6.6  6.4  5.3  6.9  5.4  7.3  6.4  5.8  5.1  ...  6.21  5.20  6.88   \n",
      "4    5  6.0  5.0  6.0  7.3  6.5  7.7  7.9  6.1  5.4  ...  6.50  6.36  6.99   \n",
      "\n",
      "   XL1  XL2  XL3  US_TBM1  US_TBM2  US_TBM3  KQXT  \n",
      "0    K    K    K    2.800    3.016    2.804   0.0  \n",
      "1    Y   TB   TB    1.876    2.188    2.028   0.0  \n",
      "2   TB   TB   TB    2.308    2.152    2.416   1.0  \n",
      "3   TB   TB    K    2.484    2.080    2.752   0.0  \n",
      "4    K   TB    K    2.600    2.544    2.796   0.0  \n",
      "\n",
      "[5 rows x 66 columns]\n"
     ]
    }
   ],
   "source": [
    "import pandas as pd\n",
    "\n",
    "# Đọc tệp CSV vào DataFrame\n",
    "file_path = \"processed_dulieuxettuyendaihoc.csv\"  # Thay bằng đường dẫn đúng nếu cần\n",
    "df = pd.read_csv(file_path)\n",
    "\n",
    "# Xem trước 5 dòng đầu tiên của dữ liệu\n",
    "print(df.head())\n"
   ]
  },
  {
   "cell_type": "markdown",
   "metadata": {},
   "source": [
    "# 1. Hãy sắp xếp dữ liệu điểm DH1 theo thứ tự tăng dần"
   ]
  },
  {
   "cell_type": "code",
   "execution_count": null,
   "metadata": {},
   "outputs": [
    {
     "name": "stdout",
     "output_type": "stream",
     "text": [
      "Dữ liệu đã được tải thành công!\n",
      "Cột DH1 sau khi sắp xếp:\n",
      "53    1.00\n",
      "43    1.25\n",
      "5     1.50\n",
      "72    1.50\n",
      "83    1.75\n",
      "      ... \n",
      "6     6.50\n",
      "11    6.75\n",
      "23    6.75\n",
      "24    7.00\n",
      "97    7.00\n",
      "Name: DH1, Length: 100, dtype: float64\n",
      "Dữ liệu đã được lưu vào tệp 'sorted_dh1.csv'.\n"
     ]
    }
   ],
   "source": [
    "import pandas as pd\n",
    "\n",
    "file_path = \"processed_dulieuxettuyendaihoc.csv\"\n",
    "try:\n",
    "    df = pd.read_csv(file_path)\n",
    "    print(\"Dữ liệu đã được tải thành công!\")\n",
    "except FileNotFoundError:\n",
    "    print(f\"Tệp '{file_path}' không tìm thấy. Vui lòng kiểm tra đường dẫn.\")\n",
    "    exit()\n",
    "\n",
    "sorted_dh1 = df.sort_values(by=\"DH1\")\n",
    "\n",
    "print(\"Cột DH1 sau khi sắp xếp:\")\n",
    "print(sorted_dh1[\"DH1\"])\n",
    "\n",
    "output_file = \"sorted_dh1.csv\"\n",
    "sorted_dh1.to_csv(output_file, index=False)\n",
    "\n",
    "print(f\"Dữ liệu đã được lưu vào tệp '{output_file}'.\")"
   ]
  },
  {
   "cell_type": "markdown",
   "metadata": {},
   "source": [
    "# 2. Hãy sắp xếp dữ liệu điểm DH2 tăng dần theo nhóm giới tính"
   ]
  },
  {
   "cell_type": "code",
   "execution_count": null,
   "metadata": {},
   "outputs": [
    {
     "name": "stdout",
     "output_type": "stream",
     "text": [
      "Dữ liệu đã được tải thành công!\n",
      "Dữ liệu sau khi sắp xếp DH2 tăng dần theo nhóm Giới Tính (các cột GT và DH2):\n",
      "   GT   DH2\n",
      "95  F  1.50\n",
      "25  F  2.00\n",
      "24  F  2.25\n",
      "46  F  2.25\n",
      "13  F  2.75\n",
      ".. ..   ...\n",
      "68  M  6.00\n",
      "11  M  6.50\n",
      "47  M  6.50\n",
      "2   M  6.75\n",
      "97  M  8.00\n",
      "\n",
      "[100 rows x 2 columns]\n",
      "Dữ liệu đã được lưu vào tệp 'sorted_dh2_by_gender_subset.csv'.\n"
     ]
    }
   ],
   "source": [
    "import pandas as pd\n",
    "\n",
    "file_path = \"processed_dulieuxettuyendaihoc.csv\"\n",
    "try:\n",
    "    df = pd.read_csv(file_path)\n",
    "    print(\"Dữ liệu đã được tải thành công!\")\n",
    "except FileNotFoundError:\n",
    "    print(f\"Tệp '{file_path}' không tìm thấy. Vui lòng kiểm tra đường dẫn.\")\n",
    "    exit()\n",
    "\n",
    "sorted_dh2_gender = df.sort_values(by=[\"GT\", \"DH2\"])\n",
    "\n",
    "sorted_dh2_gender_subset = sorted_dh2_gender[[\"GT\", \"DH2\"]]\n",
    "\n",
    "print(\"Dữ liệu sau khi sắp xếp DH2 tăng dần theo nhóm Giới Tính (các cột GT và DH2):\")\n",
    "print(sorted_dh2_gender_subset)\n",
    "\n",
    "output_file = \"sorted_dh2_by_gender_subset.csv\"\n",
    "sorted_dh2_gender_subset.to_csv(output_file, index=False)\n",
    "print(f\"Dữ liệu đã được lưu vào tệp '{output_file}'.\")\n"
   ]
  },
  {
   "cell_type": "markdown",
   "metadata": {},
   "source": [
    "# 3. Hãy tạo pivot-table để thống kê các giá trị count, sum, mean, median, min, max, std, Q1, Q2 và Q3 của DH1 theo KT"
   ]
  },
  {
   "cell_type": "code",
   "execution_count": null,
   "metadata": {},
   "outputs": [
    {
     "name": "stdout",
     "output_type": "stream",
     "text": [
      "Dữ liệu đã được tải thành công!\n",
      "Pivot-table thống kê DH1 theo KT:\n",
      "   KT  Count     Sum      Mean  Median   Min   Max       Std      Q1    Q2  \\\n",
      "0   A     49  163.50  3.336735    3.25  1.00  6.50  1.274296  2.2500  3.25   \n",
      "1  A1      6   17.50  2.916667    3.00  2.00  4.25  0.861201  2.1875  3.00   \n",
      "2   B      9   29.50  3.277778    3.50  1.75  4.50  0.823905  3.2500  3.50   \n",
      "3   C     14   79.25  5.660714    5.25  4.75  7.00  0.812209  5.0625  5.25   \n",
      "4  D1     22   84.25  3.829545    3.75  1.25  6.75  1.370146  3.0000  3.75   \n",
      "\n",
      "      Q3  \n",
      "0  4.250  \n",
      "1  3.250  \n",
      "2  3.750  \n",
      "3  6.375  \n",
      "4  4.875  \n",
      "Pivot-table đã được lưu vào tệp 'pivot_dh1_by_kt.csv'.\n"
     ]
    }
   ],
   "source": [
    "import pandas as pd\n",
    "\n",
    "file_path = \"processed_dulieuxettuyendaihoc.csv\"\n",
    "try:\n",
    "    df = pd.read_csv(file_path)\n",
    "    print(\"Dữ liệu đã được tải thành công!\")\n",
    "except FileNotFoundError:\n",
    "    print(f\"Tệp '{file_path}' không tìm thấy. Vui lòng kiểm tra đường dẫn.\")\n",
    "    exit()\n",
    "\n",
    "pivot_kt = df.groupby(\"KT\")[\"DH1\"].agg(\n",
    "    Count=\"count\",\n",
    "    Sum=\"sum\",\n",
    "    Mean=\"mean\",\n",
    "    Median=\"median\",\n",
    "    Min=\"min\",\n",
    "    Max=\"max\",\n",
    "    Std=\"std\",\n",
    "    Q1=lambda x: x.quantile(0.25),\n",
    "    Q2=lambda x: x.quantile(0.5),\n",
    "    Q3=lambda x: x.quantile(0.75)\n",
    ").reset_index()\n",
    "\n",
    "print(\"Pivot-table thống kê DH1 theo KT:\")\n",
    "print(pivot_kt)\n",
    "\n",
    "output_file = \"pivot_dh1_by_kt.csv\"\n",
    "pivot_kt.to_csv(output_file, index=False)\n",
    "print(f\"Pivot-table đã được lưu vào tệp '{output_file}'.\")"
   ]
  },
  {
   "cell_type": "markdown",
   "metadata": {},
   "source": [
    "# 4. Hãy tạo pivot-table để thống kê các giá trị count, sum, mean, median, min, max, std, Q1, Q2 và Q3 của DH1 theo KT và KV"
   ]
  },
  {
   "cell_type": "code",
   "execution_count": null,
   "metadata": {},
   "outputs": [
    {
     "name": "stdout",
     "output_type": "stream",
     "text": [
      "Dữ liệu đã được tải thành công!\n",
      "Pivot-table thống kê DH1 theo KT và KV:\n",
      "    KT   KV  Count    Sum      Mean  Median   Min   Max       Std      Q1  \\\n",
      "0    A    1     29  93.75  3.232759   3.250  1.00  6.50  1.369194  2.0000   \n",
      "1    A    2      9  31.75  3.527778   3.500  2.00  6.25  1.427653  2.2500   \n",
      "2    A  2NT     11  38.00  3.454545   3.500  2.00  4.75  0.913908  2.8750   \n",
      "3   A1    1      2   4.75  2.375000   2.375  2.00  2.75  0.530330  2.1875   \n",
      "4   A1  2NT      4  12.75  3.187500   3.250  2.00  4.25  0.921389  2.9375   \n",
      "5    B    1      8  25.75  3.218750   3.375  1.75  4.50  0.860207  3.0000   \n",
      "6    B  2NT      1   3.75  3.750000   3.750  3.75  3.75       NaN  3.7500   \n",
      "7    C    1      8  43.50  5.437500   5.250  4.75  7.00  0.728869  5.0000   \n",
      "8    C    2      2  11.50  5.750000   5.750  5.00  6.50  1.060660  5.3750   \n",
      "9    C  2NT      4  24.25  6.062500   6.000  5.25  7.00  0.943729  5.2500   \n",
      "10  D1    1     13  46.75  3.596154   3.500  1.50  5.75  1.264658  2.7500   \n",
      "11  D1    2      8  33.75  4.218750   4.500  1.25  6.75  1.617082  3.5625   \n",
      "12  D1  2NT      1   3.75  3.750000   3.750  3.75  3.75       NaN  3.7500   \n",
      "\n",
      "       Q2      Q3  \n",
      "0   3.250  4.2500  \n",
      "1   3.500  4.2500  \n",
      "2   3.500  4.1250  \n",
      "3   2.375  2.5625  \n",
      "4   3.250  3.5000  \n",
      "5   3.375  3.5625  \n",
      "6   3.750  3.7500  \n",
      "7   5.250  5.4375  \n",
      "8   5.750  6.1250  \n",
      "9   6.000  6.8125  \n",
      "10  3.500  4.2500  \n",
      "11  4.500  5.0000  \n",
      "12  3.750  3.7500  \n",
      "Pivot-table đã được lưu vào tệp 'pivot_dh1_by_kt_kv.csv'.\n"
     ]
    }
   ],
   "source": [
    "import pandas as pd\n",
    "\n",
    "file_path = \"processed_dulieuxettuyendaihoc.csv\"\n",
    "try:\n",
    "    df = pd.read_csv(file_path)\n",
    "    print(\"Dữ liệu đã được tải thành công!\")\n",
    "except FileNotFoundError:\n",
    "    print(f\"Tệp '{file_path}' không tìm thấy. Vui lòng kiểm tra đường dẫn.\")\n",
    "    exit()\n",
    "\n",
    "pivot_kt_kv = df.groupby([\"KT\", \"KV\"])[\"DH1\"].agg(\n",
    "    Count=\"count\",\n",
    "    Sum=\"sum\",\n",
    "    Mean=\"mean\",\n",
    "    Median=\"median\",\n",
    "    Min=\"min\",\n",
    "    Max=\"max\",\n",
    "    Std=\"std\",\n",
    "    Q1=lambda x: x.quantile(0.25),\n",
    "    Q2=lambda x: x.quantile(0.5),\n",
    "    Q3=lambda x: x.quantile(0.75)\n",
    ").reset_index()\n",
    "\n",
    "print(\"Pivot-table thống kê DH1 theo KT và KV:\")\n",
    "print(pivot_kt_kv)\n",
    "\n",
    "output_file = \"pivot_dh1_by_kt_kv.csv\"\n",
    "pivot_kt_kv.to_csv(output_file, index=False)\n",
    "print(f\"Pivot-table đã được lưu vào tệp '{output_file}'.\")\n"
   ]
  },
  {
   "cell_type": "markdown",
   "metadata": {},
   "source": [
    "# 5. Hãy tạo pivot-table để thống kê các giá trị count, sum, mean, median, min, max, std, Q1, Q2 và Q3 của DH1 theo KT, KV và DT"
   ]
  },
  {
   "cell_type": "code",
   "execution_count": null,
   "metadata": {},
   "outputs": [
    {
     "name": "stdout",
     "output_type": "stream",
     "text": [
      "Dữ liệu đã được tải thành công!\n",
      "Pivot-table thống kê DH1 theo KT, KV và DT:\n",
      "    KT   KV   DT  Count    Sum      Mean  Median   Min   Max       Std  \\\n",
      "0    A    1  0.0     29  93.75  3.232759   3.250  1.00  6.50  1.369194   \n",
      "1    A    2  0.0      8  27.50  3.437500   3.000  2.00  6.25  1.498511   \n",
      "2    A    2  6.0      1   4.25  4.250000   4.250  4.25  4.25       NaN   \n",
      "3    A  2NT  0.0     11  38.00  3.454545   3.500  2.00  4.75  0.913908   \n",
      "4   A1    1  0.0      2   4.75  2.375000   2.375  2.00  2.75  0.530330   \n",
      "5   A1  2NT  0.0      4  12.75  3.187500   3.250  2.00  4.25  0.921389   \n",
      "6    B    1  0.0      8  25.75  3.218750   3.375  1.75  4.50  0.860207   \n",
      "7    B  2NT  0.0      1   3.75  3.750000   3.750  3.75  3.75       NaN   \n",
      "8    C    1  0.0      8  43.50  5.437500   5.250  4.75  7.00  0.728869   \n",
      "9    C    2  0.0      2  11.50  5.750000   5.750  5.00  6.50  1.060660   \n",
      "10   C  2NT  0.0      4  24.25  6.062500   6.000  5.25  7.00  0.943729   \n",
      "11  D1    1  0.0     12  43.75  3.645833   3.625  1.50  5.75  1.307576   \n",
      "12  D1    1  1.0      1   3.00  3.000000   3.000  3.00  3.00       NaN   \n",
      "13  D1    2  0.0      7  32.50  4.642857   4.500  3.00  6.75  1.171334   \n",
      "14  D1    2  1.0      1   1.25  1.250000   1.250  1.25  1.25       NaN   \n",
      "15  D1  2NT  0.0      1   3.75  3.750000   3.750  3.75  3.75       NaN   \n",
      "\n",
      "        Q1     Q2      Q3  \n",
      "0   2.0000  3.250  4.2500  \n",
      "1   2.2500  3.000  4.1875  \n",
      "2   4.2500  4.250  4.2500  \n",
      "3   2.8750  3.500  4.1250  \n",
      "4   2.1875  2.375  2.5625  \n",
      "5   2.9375  3.250  3.5000  \n",
      "6   3.0000  3.375  3.5625  \n",
      "7   3.7500  3.750  3.7500  \n",
      "8   5.0000  5.250  5.4375  \n",
      "9   5.3750  5.750  6.1250  \n",
      "10  5.2500  6.000  6.8125  \n",
      "11  2.6875  3.625  4.4375  \n",
      "12  3.0000  3.000  3.0000  \n",
      "13  4.1250  4.500  5.0000  \n",
      "14  1.2500  1.250  1.2500  \n",
      "15  3.7500  3.750  3.7500  \n",
      "Pivot-table đã được lưu vào tệp 'pivot_dh1_by_kt_kv_dt.csv'.\n"
     ]
    }
   ],
   "source": [
    "import pandas as pd\n",
    "\n",
    "file_path = \"processed_dulieuxettuyendaihoc.csv\"\n",
    "try:\n",
    "    df = pd.read_csv(file_path)\n",
    "    print(\"Dữ liệu đã được tải thành công!\")\n",
    "except FileNotFoundError:\n",
    "    print(f\"Tệp '{file_path}' không tìm thấy. Vui lòng kiểm tra đường dẫn.\")\n",
    "    exit()\n",
    "\n",
    "pivot_kt_kv_dt = df.groupby([\"KT\", \"KV\", \"DT\"])[\"DH1\"].agg(\n",
    "    Count=\"count\",\n",
    "    Sum=\"sum\",\n",
    "    Mean=\"mean\",\n",
    "    Median=\"median\",\n",
    "    Min=\"min\",\n",
    "    Max=\"max\",\n",
    "    Std=\"std\",\n",
    "    Q1=lambda x: x.quantile(0.25),\n",
    "    Q2=lambda x: x.quantile(0.5),\n",
    "    Q3=lambda x: x.quantile(0.75)\n",
    ").reset_index()\n",
    "\n",
    "print(\"Pivot-table thống kê DH1 theo KT, KV và DT:\")\n",
    "print(pivot_kt_kv_dt)\n",
    "\n",
    "output_file = \"pivot_dh1_by_kt_kv_dt.csv\"\n",
    "pivot_kt_kv_dt.to_csv(output_file, index=False)\n",
    "print(f\"Pivot-table đã được lưu vào tệp '{output_file}'.\")\n"
   ]
  }
 ],
 "metadata": {
  "kernelspec": {
   "display_name": "Python 3",
   "language": "python",
   "name": "python3"
  },
  "language_info": {
   "codemirror_mode": {
    "name": "ipython",
    "version": 3
   },
   "file_extension": ".py",
   "mimetype": "text/x-python",
   "name": "python",
   "nbconvert_exporter": "python",
   "pygments_lexer": "ipython3",
   "version": "3.11.6"
  }
 },
 "nbformat": 4,
 "nbformat_minor": 2
}
