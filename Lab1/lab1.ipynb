{
 "cells": [
  {
   "cell_type": "code",
   "execution_count": 1,
   "metadata": {},
   "outputs": [],
   "source": [
    "import pandas as pd\n",
    "import numpy as np"
   ]
  },
  {
   "cell_type": "code",
   "execution_count": 2,
   "metadata": {},
   "outputs": [],
   "source": [
    "df = pd.read_csv('dulieuxettuyendaihoc.csv')"
   ]
  },
  {
   "cell_type": "markdown",
   "metadata": {},
   "source": [
    "# 1. Xác định và phân loại dữ liệu định tính và định lượng"
   ]
  },
  {
   "cell_type": "code",
   "execution_count": 3,
   "metadata": {},
   "outputs": [
    {
     "name": "stdout",
     "output_type": "stream",
     "text": [
      "Dữ liệu định tính: ['GT', 'DT', 'KV', 'KT']\n",
      "Dữ liệu định lượng: ['T1', 'L1', 'H1', 'S1', 'V1', 'X1', 'D1', 'N1', 'T2', 'L2', 'H2', 'S2', 'V2', 'X2', 'D2', 'N2', 'T3', 'L3', 'H3', 'S3', 'V3', 'X3', 'D3', 'N3', 'T4', 'L4', 'H4', 'S4', 'V4', 'X4', 'D4', 'N4', 'T5', 'L5', 'H5', 'S5', 'V5', 'X5', 'D5', 'N5', 'T6', 'L6', 'H6', 'S6', 'V6', 'X6', 'D6', 'N6', 'DH1', 'DH2', 'DH3']\n"
     ]
    }
   ],
   "source": [
    "qualitative_cols = ['GT', 'DT', 'KV', 'KT']\n",
    "quantitative_cols = [col for col in df.columns if col not in qualitative_cols + ['STT']]\n",
    "print(\"Dữ liệu định tính:\", qualitative_cols)\n",
    "print(\"Dữ liệu định lượng:\", quantitative_cols)"
   ]
  },
  {
   "cell_type": "markdown",
   "metadata": {},
   "source": [
    "# 2. Định nghĩa các thang đo phù hợp cho từng biến số\n"
   ]
  },
  {
   "cell_type": "code",
   "execution_count": 4,
   "metadata": {},
   "outputs": [
    {
     "name": "stdout",
     "output_type": "stream",
     "text": [
      "\n",
      "Thang đo:\n",
      "- Nominal (Danh nghĩa): GT (F/M), DT (0/1/6), KV (1/2/2NT), KT (A/A1/B/C/D1)\n",
      "- Ratio (Tỷ lệ): T1, L1, H1, ..., DH1, DH2, DH3 (thang điểm 0-10)\n"
     ]
    }
   ],
   "source": [
    "# - Nominal (Danh nghĩa): GT, DT, KV, KT\n",
    "# - Ratio (Tỷ lệ): Các cột điểm số (T1, L1, ..., DH1, DH2, DH3)\n",
    "print(\"\\nThang đo:\")\n",
    "print(\"- Nominal (Danh nghĩa): GT (F/M), DT (0/1/6), KV (1/2/2NT), KT (A/A1/B/C/D1)\")\n",
    "print(\"- Ratio (Tỷ lệ): T1, L1, H1, ..., DH1, DH2, DH3 (thang điểm 0-10)\")"
   ]
  }
 ],
 "metadata": {
  "kernelspec": {
   "display_name": "Python 3",
   "language": "python",
   "name": "python3"
  },
  "language_info": {
   "codemirror_mode": {
    "name": "ipython",
    "version": 3
   },
   "file_extension": ".py",
   "mimetype": "text/x-python",
   "name": "python",
   "nbconvert_exporter": "python",
   "pygments_lexer": "ipython3",
   "version": "3.11.6"
  }
 },
 "nbformat": 4,
 "nbformat_minor": 2
}
