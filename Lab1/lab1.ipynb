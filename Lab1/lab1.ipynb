{
 "cells": [
  {
   "cell_type": "code",
   "execution_count": 1,
   "metadata": {},
   "outputs": [],
   "source": [
    "import pandas as pd\n",
    "import numpy as np"
   ]
  },
  {
   "cell_type": "code",
   "execution_count": 2,
   "metadata": {},
   "outputs": [],
   "source": [
    "df = pd.read_csv('dulieuxettuyendaihoc.csv')"
   ]
  },
  {
   "cell_type": "markdown",
   "metadata": {},
   "source": [
    "# 1. Xác định và phân loại dữ liệu định tính và định lượng"
   ]
  },
  {
   "cell_type": "code",
   "execution_count": 3,
   "metadata": {},
   "outputs": [
    {
     "name": "stdout",
     "output_type": "stream",
     "text": [
      "Dữ liệu định tính: ['GT', 'DT', 'KV', 'KT']\n",
      "Dữ liệu định lượng: ['T1', 'L1', 'H1', 'S1', 'V1', 'X1', 'D1', 'N1', 'T2', 'L2', 'H2', 'S2', 'V2', 'X2', 'D2', 'N2', 'T3', 'L3', 'H3', 'S3', 'V3', 'X3', 'D3', 'N3', 'T4', 'L4', 'H4', 'S4', 'V4', 'X4', 'D4', 'N4', 'T5', 'L5', 'H5', 'S5', 'V5', 'X5', 'D5', 'N5', 'T6', 'L6', 'H6', 'S6', 'V6', 'X6', 'D6', 'N6', 'DH1', 'DH2', 'DH3']\n"
     ]
    }
   ],
   "source": [
    "qualitative_cols = ['GT', 'DT', 'KV', 'KT']\n",
    "quantitative_cols = [col for col in df.columns if col not in qualitative_cols + ['STT']]\n",
    "print(\"Dữ liệu định tính:\", qualitative_cols)\n",
    "print(\"Dữ liệu định lượng:\", quantitative_cols)"
   ]
  },
  {
   "cell_type": "markdown",
   "metadata": {},
   "source": [
    "# 2. Định nghĩa các thang đo phù hợp cho từng biến số\n"
   ]
  },
  {
   "cell_type": "code",
   "execution_count": 4,
   "metadata": {},
   "outputs": [
    {
     "name": "stdout",
     "output_type": "stream",
     "text": [
      "\n",
      "Thang đo:\n",
      "- Nominal (Danh nghĩa): GT (F/M), DT (0/1/6), KV (1/2/2NT), KT (A/A1/B/C/D1)\n",
      "- Ratio (Tỷ lệ): T1, L1, H1, ..., DH1, DH2, DH3 (thang điểm 0-10)\n"
     ]
    }
   ],
   "source": [
    "# - Nominal (Danh nghĩa): GT, DT, KV, KT\n",
    "# - Ratio (Tỷ lệ): Các cột điểm số (T1, L1, ..., DH1, DH2, DH3)\n",
    "print(\"\\nThang đo:\")\n",
    "print(\"- Nominal (Danh nghĩa): GT (F/M), DT (0/1/6), KV (1/2/2NT), KT (A/A1/B/C/D1)\")\n",
    "print(\"- Ratio (Tỷ lệ): T1, L1, H1, ..., DH1, DH2, DH3 (thang điểm 0-10)\")"
   ]
  },
  {
   "cell_type": "markdown",
   "metadata": {},
   "source": [
    "# 3. Sử dụng Python để tải dữ liệu lên chương trình và in ra màn hình 10 dòng đầu tiên và 10 dòng cuối cùng"
   ]
  },
  {
   "cell_type": "code",
   "execution_count": 5,
   "metadata": {},
   "outputs": [
    {
     "name": "stdout",
     "output_type": "stream",
     "text": [
      "\n",
      "10 dòng đầu tiên:\n",
      "   STT   T1   L1   H1   S1   V1   X1   D1   N1   T2  ...   X6   D6   N6  GT  \\\n",
      "0    1  7.2  7.3  6.3  7.3  7.0  7.9  7.3  5.5  8.4  ...  6.6  7.6  5.9   F   \n",
      "1    2  5.4  3.9  3.9  4.0  5.4  5.4  5.3  2.8  6.3  ...  6.6  6.1  4.4   M   \n",
      "2    3  5.6  6.8  7.2  7.5  4.3  7.4  5.8  3.2  5.0  ...  7.9  8.1  4.6   M   \n",
      "3    4  6.6  6.4  5.3  6.9  5.4  7.3  6.4  5.8  5.1  ...  7.1  7.3  7.4   M   \n",
      "4    5  6.0  5.0  6.0  7.3  6.5  7.7  7.9  6.1  5.4  ...  6.1  7.5  7.2   M   \n",
      "5    6  9.3  7.6  7.9  8.6  7.0  7.3  7.7  7.9  9.6  ...  5.7  8.0  7.8   M   \n",
      "6    7  2.8  3.9  5.5  6.9  5.0  7.3  4.6  5.2  4.4  ...  6.6  6.0  6.0   F   \n",
      "7    8  8.3  6.0  7.6  5.1  7.5  4.7  5.8  7.2  6.7  ...  7.1  6.8  7.0   F   \n",
      "8    9  6.5  6.3  7.6  6.0  5.5  7.1  6.3  5.0  7.3  ...  9.1  7.9  6.1   F   \n",
      "9   10  7.3  5.9  4.7  7.1  6.7  7.9  6.7  7.7  8.0  ...  6.4  6.1  7.8   F   \n",
      "\n",
      "   DT   KV   DH1   DH2   DH3  KT  \n",
      "0 NaN  2NT  3.25  3.25  4.50  A1  \n",
      "1 NaN    1  6.00  4.00  3.50   C  \n",
      "2 NaN    1  5.00  6.75  4.00   C  \n",
      "3 NaN    1  4.25  4.25  5.25  D1  \n",
      "4 NaN  2NT  4.25  4.50  5.00   A  \n",
      "5 NaN    1  1.50  4.00  6.00  D1  \n",
      "6 NaN    2  6.50  6.75  5.25   C  \n",
      "7 NaN    2  3.75  4.50  4.25  D1  \n",
      "8 NaN    1  3.50  3.50  6.75  D1  \n",
      "9 NaN    1  4.00  4.75  5.50  D1  \n",
      "\n",
      "[10 rows x 56 columns]\n",
      "\n",
      "10 dòng cuối cùng:\n",
      "    STT   T1   L1   H1   S1   V1   X1   D1   N1   T2  ...   X6   D6   N6  GT  \\\n",
      "90   91  8.1  7.7  9.1  8.5  6.1  8.6  8.8  7.3  8.8  ...  8.3  8.7  7.8   M   \n",
      "91   92  7.8  6.5  6.7  5.4  6.2  4.8  5.9  4.4  8.9  ...  7.2  7.4  7.0   M   \n",
      "92   93  5.0  6.6  6.5  7.2  5.8  6.7  6.4  6.0  6.8  ...  5.9  6.7  5.8   M   \n",
      "93   94  5.2  5.2  6.8  7.9  6.6  8.9  7.6  5.3  6.8  ...  8.7  7.8  5.0   M   \n",
      "94   95  5.8  5.9  7.6  6.1  5.3  8.1  6.1  5.0  6.4  ...  7.3  6.8  5.3   M   \n",
      "95   96  8.6  6.9  7.4  8.8  7.6  5.8  7.3  5.7  8.9  ...  6.3  6.1  6.2   F   \n",
      "96   97  3.7  5.4  6.0  5.1  5.5  3.9  6.1  4.4  4.1  ...  7.9  7.5  4.4   F   \n",
      "97   98  8.8  5.5  7.4  7.7  6.2  7.3  8.1  4.5  9.5  ...  9.6  8.4  5.8   M   \n",
      "98   99  2.7  1.8  3.4  5.3  4.5  7.9  4.9  3.8  2.8  ...  6.6  5.2  5.9   M   \n",
      "99  100  4.1  5.2  4.9  5.3  5.5  5.4  7.2  5.4  4.4  ...  5.6  6.6  5.8   M   \n",
      "\n",
      "    DT   KV   DH1   DH2   DH3  KT  \n",
      "90 NaN    2  6.25  4.00  6.50   A  \n",
      "91 NaN  2NT  4.75  4.75  4.50   A  \n",
      "92 NaN    1  3.25  5.25  4.25   A  \n",
      "93 NaN    1  3.50  4.25  5.00   A  \n",
      "94 NaN    1  4.25  2.50  4.75   A  \n",
      "95 NaN    1  5.25  1.50  6.25   C  \n",
      "96 NaN    1  5.25  3.75  4.75   C  \n",
      "97 NaN  2NT  7.00  8.00  4.00   C  \n",
      "98 NaN    1  5.00  3.50  5.50   C  \n",
      "99 NaN  2NT  5.25  2.50  4.25   C  \n",
      "\n",
      "[10 rows x 56 columns]\n"
     ]
    }
   ],
   "source": [
    "print(\"\\n10 dòng đầu tiên:\")\n",
    "print(df.head(10))\n",
    "print(\"\\n10 dòng cuối cùng:\")\n",
    "print(df.tail(10))"
   ]
  },
  {
   "cell_type": "markdown",
   "metadata": {},
   "source": [
    "# 4. Thống kê dữ liệu thiếu cho cột dân tộc và hiệu chỉnh dữ liệu thiếu như sau: Mặc định thiếu thì điền giá trị 0."
   ]
  },
  {
   "cell_type": "code",
   "execution_count": 8,
   "metadata": {},
   "outputs": [
    {
     "name": "stdout",
     "output_type": "stream",
     "text": [
      "\n",
      "Thống kê dữ liệu thiếu cho cột DT:\n",
      "Số giá trị thiếu: 97\n",
      "Bảng tần số giá trị DT:\n",
      "DT\n",
      "NaN    97\n",
      "1.0     2\n",
      "6.0     1\n",
      "Name: count, dtype: int64\n",
      "Giá trị riêng biệt trong DT: [nan  1.  6.]\n",
      "Sau khi thay thế, số giá trị thiếu trong DT: 0\n"
     ]
    },
    {
     "name": "stderr",
     "output_type": "stream",
     "text": [
      "C:\\Users\\84936\\AppData\\Local\\Temp\\ipykernel_19600\\2237735824.py:6: FutureWarning: A value is trying to be set on a copy of a DataFrame or Series through chained assignment using an inplace method.\n",
      "The behavior will change in pandas 3.0. This inplace method will never work because the intermediate object on which we are setting values always behaves as a copy.\n",
      "\n",
      "For example, when doing 'df[col].method(value, inplace=True)', try using 'df.method({col: value}, inplace=True)' or df[col] = df[col].method(value) instead, to perform the operation inplace on the original object.\n",
      "\n",
      "\n",
      "  df['DT'].fillna(0, inplace=True)  # Thay thế NaN bằng 0\n"
     ]
    }
   ],
   "source": [
    "print(\"\\nThống kê dữ liệu thiếu cho cột DT:\")\n",
    "print(\"Số giá trị thiếu:\", df['DT'].isnull().sum())\n",
    "print(\"Bảng tần số giá trị DT:\")\n",
    "print(df['DT'].value_counts(dropna=False))\n",
    "print(\"Giá trị riêng biệt trong DT:\", df['DT'].unique())\n",
    "df['DT'].fillna(0, inplace=True)  # Thay thế NaN bằng 0\n",
    "print(\"Sau khi thay thế, số giá trị thiếu trong DT:\", df['DT'].isnull().sum())"
   ]
  },
  {
   "cell_type": "markdown",
   "metadata": {},
   "source": [
    "# 5. Thống kê dữ liệu thiếu cho biến T1 và hiệu chỉnh dữ liệu, lưu ý việc thay thế dữ liệu thiếu sử dụng phương pháp Mean."
   ]
  },
  {
   "cell_type": "code",
   "execution_count": 9,
   "metadata": {},
   "outputs": [
    {
     "name": "stdout",
     "output_type": "stream",
     "text": [
      "\n",
      "Thống kê dữ liệu thiếu cho cột T1:\n",
      "Số giá trị thiếu: 0\n",
      "Bảng tần số giá trị T1:\n",
      "T1\n",
      "5.2    5\n",
      "7.3    5\n",
      "5.3    5\n",
      "6.0    4\n",
      "7.2    4\n",
      "7.9    4\n",
      "4.9    3\n",
      "5.4    3\n",
      "5.0    3\n",
      "8.2    3\n",
      "6.5    3\n",
      "5.5    3\n",
      "6.3    3\n",
      "8.8    2\n",
      "7.1    2\n",
      "8.3    2\n",
      "6.4    2\n",
      "3.6    2\n",
      "8.1    2\n",
      "6.6    2\n",
      "5.6    2\n",
      "5.7    2\n",
      "5.8    2\n",
      "3.0    2\n",
      "5.1    2\n",
      "9.3    1\n",
      "3.9    1\n",
      "2.5    1\n",
      "2.8    1\n",
      "2.4    1\n",
      "3.4    1\n",
      "4.3    1\n",
      "4.4    1\n",
      "4.7    1\n",
      "4.5    1\n",
      "2.6    1\n",
      "7.6    1\n",
      "6.7    1\n",
      "6.9    1\n",
      "6.1    1\n",
      "7.0    1\n",
      "6.2    1\n",
      "4.6    1\n",
      "4.2    1\n",
      "7.5    1\n",
      "4.8    1\n",
      "5.9    1\n",
      "8.4    1\n",
      "7.8    1\n",
      "8.6    1\n",
      "3.7    1\n",
      "2.7    1\n",
      "4.1    1\n",
      "Name: count, dtype: int64\n",
      "Sau khi thay thế, số giá trị thiếu trong T1: 0\n"
     ]
    },
    {
     "name": "stderr",
     "output_type": "stream",
     "text": [
      "C:\\Users\\84936\\AppData\\Local\\Temp\\ipykernel_19600\\308513751.py:6: FutureWarning: A value is trying to be set on a copy of a DataFrame or Series through chained assignment using an inplace method.\n",
      "The behavior will change in pandas 3.0. This inplace method will never work because the intermediate object on which we are setting values always behaves as a copy.\n",
      "\n",
      "For example, when doing 'df[col].method(value, inplace=True)', try using 'df.method({col: value}, inplace=True)' or df[col] = df[col].method(value) instead, to perform the operation inplace on the original object.\n",
      "\n",
      "\n",
      "  df['T1'].fillna(mean_T1, inplace=True)\n"
     ]
    }
   ],
   "source": [
    "print(\"\\nThống kê dữ liệu thiếu cho cột T1:\")\n",
    "print(\"Số giá trị thiếu:\", df['T1'].isnull().sum())\n",
    "print(\"Bảng tần số giá trị T1:\")\n",
    "print(df['T1'].value_counts(dropna=False))\n",
    "mean_T1 = df['T1'].mean()\n",
    "df['T1'].fillna(mean_T1, inplace=True)\n",
    "print(\"Sau khi thay thế, số giá trị thiếu trong T1:\", df['T1'].isnull().sum())"
   ]
  },
  {
   "cell_type": "markdown",
   "metadata": {},
   "source": [
    "# 6. Hãy thực hiện xử lý lần lượt tất cả dữ liệu thiếu cho các biến về điểm số còn lại."
   ]
  },
  {
   "cell_type": "code",
   "execution_count": 10,
   "metadata": {},
   "outputs": [
    {
     "name": "stdout",
     "output_type": "stream",
     "text": [
      "\n",
      "Đã xử lý tất cả dữ liệu thiếu cho các cột điểm số.\n"
     ]
    },
    {
     "name": "stderr",
     "output_type": "stream",
     "text": [
      "C:\\Users\\84936\\AppData\\Local\\Temp\\ipykernel_19600\\3627092438.py:8: FutureWarning: A value is trying to be set on a copy of a DataFrame or Series through chained assignment using an inplace method.\n",
      "The behavior will change in pandas 3.0. This inplace method will never work because the intermediate object on which we are setting values always behaves as a copy.\n",
      "\n",
      "For example, when doing 'df[col].method(value, inplace=True)', try using 'df.method({col: value}, inplace=True)' or df[col] = df[col].method(value) instead, to perform the operation inplace on the original object.\n",
      "\n",
      "\n",
      "  df[col].fillna(df[col].mean(), inplace=True)\n"
     ]
    }
   ],
   "source": [
    "score_columns = ['T1', 'L1', 'H1', 'S1', 'V1', 'X1', 'D1', 'N1',\n",
    "                 'T2', 'L2', 'H2', 'S2', 'V2', 'X2', 'D2', 'N2',\n",
    "                 'T3', 'L3', 'H3', 'S3', 'V3', 'X3', 'D3', 'N3',\n",
    "                 'T4', 'L4', 'H4', 'S4', 'V4', 'X4', 'D4', 'N4',\n",
    "                 'T5', 'L5', 'H5', 'S5', 'V5', 'X5', 'D5', 'N5',\n",
    "                 'T6', 'L6', 'H6', 'S6', 'V6', 'X6', 'D6', 'N6']\n",
    "for col in score_columns:\n",
    "    df[col].fillna(df[col].mean(), inplace=True)\n",
    "print(\"\\nĐã xử lý tất cả dữ liệu thiếu cho các cột điểm số.\")"
   ]
  },
  {
   "cell_type": "markdown",
   "metadata": {},
   "source": [
    "# 7. Tạo các biến TBM1, TBM2, TBM3 tương ứng với trung bình môn của các năm lớp 10, 11 và 12.\n",
    "### • Công thức tính: TBM = (T*2 + L + H + S + V*2 + X + D + N) / 10"
   ]
  },
  {
   "cell_type": "code",
   "execution_count": 11,
   "metadata": {},
   "outputs": [],
   "source": [
    "def calculate_tbm(row, year):\n",
    "    t = row[f'T{year}'] * 2\n",
    "    l = row[f'L{year}']\n",
    "    h = row[f'H{year}']\n",
    "    s = row[f'S{year}']\n",
    "    v = row[f'V{year}'] * 2\n",
    "    x = row[f'X{year}']\n",
    "    d = row[f'D{year}']\n",
    "    n = row[f'N{year}']\n",
    "    return (t + l + h + s + v + x + d + n) / 10\n",
    "\n",
    "df['TBM1'] = df.apply(lambda row: calculate_tbm(row, 1), axis=1)\n",
    "df['TBM2'] = df.apply(lambda row: calculate_tbm(row, 2), axis=1)\n",
    "df['TBM3'] = df.apply(lambda row: calculate_tbm(row, 3), axis=1)"
   ]
  },
  {
   "cell_type": "markdown",
   "metadata": {},
   "source": [
    "# 8. Tạo các biến xếp loại XL1, XL2 và XL3 dựa trên TBM1,TBM2 và TBM3 cho từng năm lớp 10, 11, 12 như sau:\n",
    "### • Nhỏ hơn 5.0 xếp loại: yếu (kí hiệu là Y)\n",
    "### • Từ 5.0 đến dưới 6.5: trung bình (kí hiệu là TB)\n",
    "### • Từ 6.5 đến dưới 8.0: khá (kí hiệu là K)\n",
    "### • Từ 8.0 đến dưới 9.0: giỏi (kí hiệu là G)\n",
    "### • Từ 9.0 trở lên: xuất sắc (kí hiệu là XS)"
   ]
  },
  {
   "cell_type": "code",
   "execution_count": 12,
   "metadata": {},
   "outputs": [],
   "source": [
    "def classify_tbm(tbm):\n",
    "    if tbm < 5.0:\n",
    "        return 'Y'\n",
    "    elif 5.0 <= tbm < 6.5:\n",
    "        return 'TB'\n",
    "    elif 6.5 <= tbm < 8.0:\n",
    "        return 'K'\n",
    "    elif 8.0 <= tbm < 9.0:\n",
    "        return 'G'\n",
    "    else:\n",
    "        return 'XS'\n",
    "\n",
    "df['XL1'] = df['TBM1'].apply(classify_tbm)\n",
    "df['XL2'] = df['TBM2'].apply(classify_tbm)\n",
    "df['XL3'] = df['TBM3'].apply(classify_tbm)"
   ]
  },
  {
   "cell_type": "markdown",
   "metadata": {},
   "source": [
    "# 9. Tạo các biến US_TBM1, US_TBM2 và US_TBM3 để chuyển điểm trung bình các năm lớp 10, 11 và 12 từ thang điểm 10 của Việt Nam sang thang điểm 4 của Mỹ. Sử dụng phương pháp Min-Max Normalization"
   ]
  },
  {
   "cell_type": "code",
   "execution_count": 13,
   "metadata": {},
   "outputs": [],
   "source": [
    "def min_max_normalization(tbm, min_val=0, max_val=10, new_min=0, new_max=4):\n",
    "    return ((tbm - min_val) / (max_val - min_val)) * (new_max - new_min) + new_min\n",
    "\n",
    "df['US_TBM1'] = df['TBM1'].apply(min_max_normalization)\n",
    "df['US_TBM2'] = df['TBM2'].apply(min_max_normalization)\n",
    "df['US_TBM3'] = df['TBM3'].apply(min_max_normalization)"
   ]
  },
  {
   "cell_type": "markdown",
   "metadata": {},
   "source": [
    "# 10. Tạo biến kết quả xét tuyển (kí hiệu là KQXT) nhằm xác định sinh viên đậu (giá trị “1”) và rớt ( giá trị “0”) vào các khối dựa trên điểm DH1, DH2 và DH3 như sau\n",
    "### • Với khối A, A1 nếu [(DH1*2 + DH2 + DH3)/4] lớn hơn hoặc bằng 5.0 thì đậu, ngược lại là rớt\n",
    "### • Với khối B nếu [(DH1 + DH2*2 + DH3)/4] lớn hơn hoặc bằng 5.0 thì đậu, ngược lại là rớt\n",
    "### • Với khối khác nếu [(DH1+ DH2 + DH3)/3] lớn hơn hoặc bằng 5.0 thì đậu, ngược lại là rớt"
   ]
  },
  {
   "cell_type": "code",
   "execution_count": 14,
   "metadata": {},
   "outputs": [],
   "source": [
    "def calculate_kqxt(row):\n",
    "    dh1, dh2, dh3 = row['DH1'], row['DH2'], row['DH3']\n",
    "    kt = row['KT']\n",
    "    if kt in ['A', 'A1']:\n",
    "        score = (dh1 * 2 + dh2 + dh3) / 4\n",
    "    elif kt == 'B':\n",
    "        score = (dh1 + dh2 * 2 + dh3) / 4\n",
    "    else:\n",
    "        score = (dh1 + dh2 + dh3) / 3\n",
    "    return 1 if score >= 5.0 else 0\n",
    "\n",
    "df['KQXT'] = df.apply(calculate_kqxt, axis=1)"
   ]
  },
  {
   "cell_type": "markdown",
   "metadata": {},
   "source": [
    "# 11. Lưu trữ dữ liệu xuống ổ đĩa thành file processed_dulieuxettuyendaihoc.csv"
   ]
  },
  {
   "cell_type": "code",
   "execution_count": 16,
   "metadata": {},
   "outputs": [
    {
     "name": "stdout",
     "output_type": "stream",
     "text": [
      "\n",
      "Đã lưu dữ liệu vào file 'processed_dulieuxettuyendaihoc.csv'\n"
     ]
    }
   ],
   "source": [
    "df.to_csv('processed_dulieuxettuyendaihoc.csv', index=False)\n",
    "print(\"\\nĐã lưu dữ liệu vào file 'processed_dulieuxettuyendaihoc.csv'\")"
   ]
  },
  {
   "cell_type": "code",
   "execution_count": 17,
   "metadata": {},
   "outputs": [
    {
     "name": "stdout",
     "output_type": "stream",
     "text": [
      "\n",
      "5 dòng đầu tiên của dữ liệu đã xử lý (các cột mới):\n",
      "   TBM1 XL1  US_TBM1  KQXT\n",
      "0  7.00   K    2.800     0\n",
      "1  4.69   Y    1.876     0\n",
      "2  5.77  TB    2.308     1\n",
      "3  6.21  TB    2.484     0\n",
      "4  6.50   K    2.600     0\n"
     ]
    }
   ],
   "source": [
    "print(\"\\n5 dòng đầu tiên của dữ liệu đã xử lý (các cột mới):\")\n",
    "print(df[['TBM1', 'XL1', 'US_TBM1', 'KQXT']].head())"
   ]
  }
 ],
 "metadata": {
  "kernelspec": {
   "display_name": "Python 3",
   "language": "python",
   "name": "python3"
  },
  "language_info": {
   "codemirror_mode": {
    "name": "ipython",
    "version": 3
   },
   "file_extension": ".py",
   "mimetype": "text/x-python",
   "name": "python",
   "nbconvert_exporter": "python",
   "pygments_lexer": "ipython3",
   "version": "3.11.6"
  }
 },
 "nbformat": 4,
 "nbformat_minor": 2
}
