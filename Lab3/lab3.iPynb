{
 "cells": [
  {
   "cell_type": "markdown",
   "metadata": {},
   "source": [
    "# Làm sạch dữ liệu cơ bản"
   ]
  },
  {
   "cell_type": "code",
   "execution_count": 3,
   "metadata": {},
   "outputs": [],
   "source": [
    "import pandas as pd"
   ]
  },
  {
   "cell_type": "markdown",
   "metadata": {},
   "source": [
    "## 1. Tạo dữ liệu"
   ]
  },
  {
   "cell_type": "code",
   "execution_count": null,
   "metadata": {},
   "outputs": [
    {
     "name": "stdout",
     "output_type": "stream",
     "text": [
      "   id   name  age                email   salary\n",
      "0   1    Anh   15       Anh@vlu.edu.vn      NaN\n",
      "1   2     em   14         em@gmail.com  70000.0\n",
      "2   3  Phong   18  Phong@vanlanguni.vn  10000.0\n",
      "3   4    Phu   28        Phu@yahoo.com  25000.0\n",
      "4   5   None   50                 None  15000.0\n"
     ]
    }
   ],
   "source": [
    "data = {\n",
    "    \"id\" : [1, 2, 3, 4, 5],\n",
    "    \"name\" : [\"Anh\", \"em\", \"Phong\", \"Phu\", None],\n",
    "    \"age\" : [15, 14, 18, 28, 50],\n",
    "    \"email\" : [\"Anh@vlu.edu.vn\", \"em@gmail.com\", \"Phong@vanlanguni.vn\", \"Phu@yahoo.com\", None],\n",
    "    \"salary\" : [None, 70000, 10000, 25000, 15000]\n",
    "}\n",
    "df = pd.DataFrame(data)\n",
    "\n",
    "print(df)"
   ]
  },
  {
   "cell_type": "code",
   "execution_count": 7,
   "metadata": {},
   "outputs": [
    {
     "data": {
      "text/html": [
       "<div>\n",
       "<style scoped>\n",
       "    .dataframe tbody tr th:only-of-type {\n",
       "        vertical-align: middle;\n",
       "    }\n",
       "\n",
       "    .dataframe tbody tr th {\n",
       "        vertical-align: top;\n",
       "    }\n",
       "\n",
       "    .dataframe thead th {\n",
       "        text-align: right;\n",
       "    }\n",
       "</style>\n",
       "<table border=\"1\" class=\"dataframe\">\n",
       "  <thead>\n",
       "    <tr style=\"text-align: right;\">\n",
       "      <th></th>\n",
       "      <th>id</th>\n",
       "      <th>name</th>\n",
       "      <th>age</th>\n",
       "      <th>email</th>\n",
       "      <th>salary</th>\n",
       "    </tr>\n",
       "  </thead>\n",
       "  <tbody>\n",
       "    <tr>\n",
       "      <th>0</th>\n",
       "      <td>1</td>\n",
       "      <td>Anh</td>\n",
       "      <td>15</td>\n",
       "      <td>Anh@vlu.edu.vn</td>\n",
       "      <td>NaN</td>\n",
       "    </tr>\n",
       "    <tr>\n",
       "      <th>1</th>\n",
       "      <td>2</td>\n",
       "      <td>em</td>\n",
       "      <td>14</td>\n",
       "      <td>em@gmail.com</td>\n",
       "      <td>70000.0</td>\n",
       "    </tr>\n",
       "    <tr>\n",
       "      <th>2</th>\n",
       "      <td>3</td>\n",
       "      <td>Phong</td>\n",
       "      <td>18</td>\n",
       "      <td>Phong@vanlanguni.vn</td>\n",
       "      <td>10000.0</td>\n",
       "    </tr>\n",
       "    <tr>\n",
       "      <th>3</th>\n",
       "      <td>4</td>\n",
       "      <td>Phu</td>\n",
       "      <td>28</td>\n",
       "      <td>Phu@yahoo.com</td>\n",
       "      <td>25000.0</td>\n",
       "    </tr>\n",
       "    <tr>\n",
       "      <th>4</th>\n",
       "      <td>5</td>\n",
       "      <td>None</td>\n",
       "      <td>50</td>\n",
       "      <td>None</td>\n",
       "      <td>15000.0</td>\n",
       "    </tr>\n",
       "  </tbody>\n",
       "</table>\n",
       "</div>"
      ],
      "text/plain": [
       "   id   name  age                email   salary\n",
       "0   1    Anh   15       Anh@vlu.edu.vn      NaN\n",
       "1   2     em   14         em@gmail.com  70000.0\n",
       "2   3  Phong   18  Phong@vanlanguni.vn  10000.0\n",
       "3   4    Phu   28        Phu@yahoo.com  25000.0\n",
       "4   5   None   50                 None  15000.0"
      ]
     },
     "execution_count": 7,
     "metadata": {},
     "output_type": "execute_result"
    }
   ],
   "source": [
    "# lấy ra 5 dòng đầu tiên\n",
    "\n",
    "df.head()"
   ]
  },
  {
   "cell_type": "code",
   "execution_count": 8,
   "metadata": {},
   "outputs": [
    {
     "data": {
      "text/plain": [
       "id        0\n",
       "name      1\n",
       "age       0\n",
       "email     1\n",
       "salary    1\n",
       "dtype: int64"
      ]
     },
     "execution_count": 8,
     "metadata": {},
     "output_type": "execute_result"
    }
   ],
   "source": [
    "# kiểm tra dữ liệu thiếu\n",
    "\n",
    "df.isnull().sum()"
   ]
  },
  {
   "cell_type": "code",
   "execution_count": null,
   "metadata": {},
   "outputs": [],
   "source": [
    "# Điền giá trị thiếu bằng giá trị trung bình cho cột salary\n",
    "\n",
    "df[\"salary\"].fillna(df[\"salary\"].mean(), inplace = True)"
   ]
  },
  {
   "cell_type": "code",
   "execution_count": null,
   "metadata": {},
   "outputs": [],
   "source": [
    "# Điền giá trị thiếu bằng Unknow cho cột \"Name\" và cột \"email\"\n",
    "df[\"name\"].fillna(\"Unknow\", inplace = True)\n",
    "df[\"email\"].fillna(\"Unknow\", inplace = True)"
   ]
  },
  {
   "cell_type": "code",
   "execution_count": 11,
   "metadata": {},
   "outputs": [
    {
     "data": {
      "text/plain": [
       "id        0\n",
       "name      0\n",
       "age       0\n",
       "email     0\n",
       "salary    0\n",
       "dtype: int64"
      ]
     },
     "execution_count": 11,
     "metadata": {},
     "output_type": "execute_result"
    }
   ],
   "source": [
    "# Kiểm tra lại dữ liệu thiếu\n",
    "df.isnull().sum()"
   ]
  },
  {
   "cell_type": "code",
   "execution_count": 12,
   "metadata": {},
   "outputs": [
    {
     "data": {
      "text/html": [
       "<div>\n",
       "<style scoped>\n",
       "    .dataframe tbody tr th:only-of-type {\n",
       "        vertical-align: middle;\n",
       "    }\n",
       "\n",
       "    .dataframe tbody tr th {\n",
       "        vertical-align: top;\n",
       "    }\n",
       "\n",
       "    .dataframe thead th {\n",
       "        text-align: right;\n",
       "    }\n",
       "</style>\n",
       "<table border=\"1\" class=\"dataframe\">\n",
       "  <thead>\n",
       "    <tr style=\"text-align: right;\">\n",
       "      <th></th>\n",
       "      <th>id</th>\n",
       "      <th>name</th>\n",
       "      <th>age</th>\n",
       "      <th>email</th>\n",
       "      <th>salary</th>\n",
       "    </tr>\n",
       "  </thead>\n",
       "  <tbody>\n",
       "    <tr>\n",
       "      <th>0</th>\n",
       "      <td>1</td>\n",
       "      <td>Anh</td>\n",
       "      <td>15</td>\n",
       "      <td>Anh@vlu.edu.vn</td>\n",
       "      <td>30000.0</td>\n",
       "    </tr>\n",
       "    <tr>\n",
       "      <th>1</th>\n",
       "      <td>2</td>\n",
       "      <td>em</td>\n",
       "      <td>14</td>\n",
       "      <td>em@gmail.com</td>\n",
       "      <td>70000.0</td>\n",
       "    </tr>\n",
       "    <tr>\n",
       "      <th>2</th>\n",
       "      <td>3</td>\n",
       "      <td>Phong</td>\n",
       "      <td>18</td>\n",
       "      <td>Phong@vanlanguni.vn</td>\n",
       "      <td>10000.0</td>\n",
       "    </tr>\n",
       "    <tr>\n",
       "      <th>3</th>\n",
       "      <td>4</td>\n",
       "      <td>Phu</td>\n",
       "      <td>28</td>\n",
       "      <td>Phu@yahoo.com</td>\n",
       "      <td>25000.0</td>\n",
       "    </tr>\n",
       "    <tr>\n",
       "      <th>4</th>\n",
       "      <td>5</td>\n",
       "      <td>Unknow</td>\n",
       "      <td>50</td>\n",
       "      <td>Unknow</td>\n",
       "      <td>15000.0</td>\n",
       "    </tr>\n",
       "  </tbody>\n",
       "</table>\n",
       "</div>"
      ],
      "text/plain": [
       "   id    name  age                email   salary\n",
       "0   1     Anh   15       Anh@vlu.edu.vn  30000.0\n",
       "1   2      em   14         em@gmail.com  70000.0\n",
       "2   3   Phong   18  Phong@vanlanguni.vn  10000.0\n",
       "3   4     Phu   28        Phu@yahoo.com  25000.0\n",
       "4   5  Unknow   50               Unknow  15000.0"
      ]
     },
     "execution_count": 12,
     "metadata": {},
     "output_type": "execute_result"
    }
   ],
   "source": [
    "df.head()"
   ]
  },
  {
   "cell_type": "code",
   "execution_count": 13,
   "metadata": {},
   "outputs": [
    {
     "data": {
      "text/html": [
       "<div>\n",
       "<style scoped>\n",
       "    .dataframe tbody tr th:only-of-type {\n",
       "        vertical-align: middle;\n",
       "    }\n",
       "\n",
       "    .dataframe tbody tr th {\n",
       "        vertical-align: top;\n",
       "    }\n",
       "\n",
       "    .dataframe thead th {\n",
       "        text-align: right;\n",
       "    }\n",
       "</style>\n",
       "<table border=\"1\" class=\"dataframe\">\n",
       "  <thead>\n",
       "    <tr style=\"text-align: right;\">\n",
       "      <th></th>\n",
       "      <th>id</th>\n",
       "      <th>name</th>\n",
       "      <th>age</th>\n",
       "      <th>email</th>\n",
       "      <th>salary</th>\n",
       "    </tr>\n",
       "  </thead>\n",
       "  <tbody>\n",
       "    <tr>\n",
       "      <th>0</th>\n",
       "      <td>1</td>\n",
       "      <td>Anh</td>\n",
       "      <td>15</td>\n",
       "      <td>Anh@vlu.edu.vn</td>\n",
       "      <td>30000.0</td>\n",
       "    </tr>\n",
       "    <tr>\n",
       "      <th>1</th>\n",
       "      <td>2</td>\n",
       "      <td>em</td>\n",
       "      <td>14</td>\n",
       "      <td>em@gmail.com</td>\n",
       "      <td>70000.0</td>\n",
       "    </tr>\n",
       "    <tr>\n",
       "      <th>2</th>\n",
       "      <td>3</td>\n",
       "      <td>Phong</td>\n",
       "      <td>18</td>\n",
       "      <td>Phong@vanlanguni.vn</td>\n",
       "      <td>10000.0</td>\n",
       "    </tr>\n",
       "    <tr>\n",
       "      <th>3</th>\n",
       "      <td>4</td>\n",
       "      <td>Phu</td>\n",
       "      <td>28</td>\n",
       "      <td>Phu@yahoo.com</td>\n",
       "      <td>25000.0</td>\n",
       "    </tr>\n",
       "    <tr>\n",
       "      <th>4</th>\n",
       "      <td>5</td>\n",
       "      <td>Unknow</td>\n",
       "      <td>50</td>\n",
       "      <td>Unknow</td>\n",
       "      <td>15000.0</td>\n",
       "    </tr>\n",
       "  </tbody>\n",
       "</table>\n",
       "</div>"
      ],
      "text/plain": [
       "   id    name  age                email   salary\n",
       "0   1     Anh   15       Anh@vlu.edu.vn  30000.0\n",
       "1   2      em   14         em@gmail.com  70000.0\n",
       "2   3   Phong   18  Phong@vanlanguni.vn  10000.0\n",
       "3   4     Phu   28        Phu@yahoo.com  25000.0\n",
       "4   5  Unknow   50               Unknow  15000.0"
      ]
     },
     "execution_count": 13,
     "metadata": {},
     "output_type": "execute_result"
    }
   ],
   "source": [
    "# Loại bỏ dữ liệu trùng lặp\n",
    "df.drop_duplicates(inplace = True)\n",
    "df"
   ]
  },
  {
   "cell_type": "code",
   "execution_count": 14,
   "metadata": {},
   "outputs": [],
   "source": [
    "# Chuẩn hóa cột name bằng cách viết hoa chữ cái đầu\n",
    "df[\"name\"] = df[\"name\"].str.title()"
   ]
  },
  {
   "cell_type": "code",
   "execution_count": 15,
   "metadata": {},
   "outputs": [
    {
     "data": {
      "text/html": [
       "<div>\n",
       "<style scoped>\n",
       "    .dataframe tbody tr th:only-of-type {\n",
       "        vertical-align: middle;\n",
       "    }\n",
       "\n",
       "    .dataframe tbody tr th {\n",
       "        vertical-align: top;\n",
       "    }\n",
       "\n",
       "    .dataframe thead th {\n",
       "        text-align: right;\n",
       "    }\n",
       "</style>\n",
       "<table border=\"1\" class=\"dataframe\">\n",
       "  <thead>\n",
       "    <tr style=\"text-align: right;\">\n",
       "      <th></th>\n",
       "      <th>id</th>\n",
       "      <th>name</th>\n",
       "      <th>age</th>\n",
       "      <th>email</th>\n",
       "      <th>salary</th>\n",
       "    </tr>\n",
       "  </thead>\n",
       "  <tbody>\n",
       "    <tr>\n",
       "      <th>0</th>\n",
       "      <td>1</td>\n",
       "      <td>Anh</td>\n",
       "      <td>15</td>\n",
       "      <td>anh@vlu.edu.vn</td>\n",
       "      <td>30000.0</td>\n",
       "    </tr>\n",
       "    <tr>\n",
       "      <th>1</th>\n",
       "      <td>2</td>\n",
       "      <td>Em</td>\n",
       "      <td>14</td>\n",
       "      <td>em@gmail.com</td>\n",
       "      <td>70000.0</td>\n",
       "    </tr>\n",
       "    <tr>\n",
       "      <th>2</th>\n",
       "      <td>3</td>\n",
       "      <td>Phong</td>\n",
       "      <td>18</td>\n",
       "      <td>phong@vanlanguni.vn</td>\n",
       "      <td>10000.0</td>\n",
       "    </tr>\n",
       "    <tr>\n",
       "      <th>3</th>\n",
       "      <td>4</td>\n",
       "      <td>Phu</td>\n",
       "      <td>28</td>\n",
       "      <td>phu@yahoo.com</td>\n",
       "      <td>25000.0</td>\n",
       "    </tr>\n",
       "    <tr>\n",
       "      <th>4</th>\n",
       "      <td>5</td>\n",
       "      <td>Unknow</td>\n",
       "      <td>50</td>\n",
       "      <td>unknow</td>\n",
       "      <td>15000.0</td>\n",
       "    </tr>\n",
       "  </tbody>\n",
       "</table>\n",
       "</div>"
      ],
      "text/plain": [
       "   id    name  age                email   salary\n",
       "0   1     Anh   15       anh@vlu.edu.vn  30000.0\n",
       "1   2      Em   14         em@gmail.com  70000.0\n",
       "2   3   Phong   18  phong@vanlanguni.vn  10000.0\n",
       "3   4     Phu   28        phu@yahoo.com  25000.0\n",
       "4   5  Unknow   50               unknow  15000.0"
      ]
     },
     "execution_count": 15,
     "metadata": {},
     "output_type": "execute_result"
    }
   ],
   "source": [
    "# Chuẩn hóa cột email bằng cách chuyển về chữ thường\n",
    "df[\"email\"] = df[\"email\"].str.lower()\n",
    "\n",
    "\n",
    "df"
   ]
  },
  {
   "cell_type": "code",
   "execution_count": 16,
   "metadata": {},
   "outputs": [],
   "source": [
    "# Lưu dữ liệu đã làm sạch\n",
    "\n",
    "df.to_csv(\"Dulieulamsach.csv\", index = False)"
   ]
  },
  {
   "cell_type": "markdown",
   "metadata": {},
   "source": [
    "# Bài Tập Về Nhà"
   ]
  },
  {
   "cell_type": "markdown",
   "metadata": {},
   "source": [
    "### Cho dữ liệu dirty_data.csv\n",
    "1. Kiểm tra dữ liệu bị thiếu:\n",
    "    - Kiểm tra các cột có dữ liệu thiếu\n",
    "    - Điền giá trị phù hợp hoặc loại bỏ các hàng có quá nhiều dữ liệu thiếu\n",
    "2. Phát hiện và sửa lỗi dữ liệu bất thường:\n",
    "    - Tìm các giá trị bất thường trong cột tuổi có thể là âm hoặc quá lớn\n",
    "    - Kiểm tra cột thu nhập (income) để phatsbhienej dữ liệu bị sai\n",
    "3. Chuyển hóa dạng dữ liệu\n",
    "    - Chuyển đổi cột ngày sinh về dạng chuẩn yyyy-mm-dd\n",
    "    - Chuyển hóa dữ liệu trong cột giới tính (gender) để chỉ có 2 giới tính hợp lệ là \"Male\" và \"Female\"\n",
    "4. Xóa bỏ dữ liệu trùng lặp\n",
    "    - Xác định và xóa các bản ghi trùng lặp dựa trên thông tin khách hàng\n",
    "5. Xuất dữ liệu sạch:\n",
    "    - Lưu tập dữ liệu đã làm sạch thành tệp mới clean_data.csv"
   ]
  },
  {
   "cell_type": "code",
   "execution_count": 8,
   "metadata": {},
   "outputs": [],
   "source": [
    "import pandas as pd\n",
    "from io import StringIO"
   ]
  },
  {
   "cell_type": "code",
   "execution_count": 17,
   "metadata": {},
   "outputs": [
    {
     "name": "stdout",
     "output_type": "stream",
     "text": [
      "Dữ liệu thiếu trong từng cột:\n",
      "customer_id    0\n",
      "name           0\n",
      "age            1\n",
      "gender         0\n",
      "dob            0\n",
      "income         1\n",
      "email          0\n",
      "dtype: int64\n",
      "\n",
      "DataFrame sau khi xử lý dữ liệu thiếu ban đầu:\n",
      "    customer_id          name    age   gender         dob  income  \\\n",
      "0           101  Nguyen Van A   25.0     Male  1998-05-22  1200.0   \n",
      "1           102    Tran Thi B   42.0   Female  1981-07-14  4500.0   \n",
      "2           103      Le Van C   -5.0     male  12/03/1995  3200.0   \n",
      "3           104  Hoang Minh D  150.0        F  1980/08/25  -500.0   \n",
      "4           105    Pham Thi E   30.0      Fem  1993-09-30     0.0   \n",
      "5           106  Nguyen Van F    NaN        M  1996-11-02  2500.0   \n",
      "6           107     Bui Thi G   29.0   Female  1994/06/15  3800.0   \n",
      "7           108    Dang Van H   40.0        f  1990-01-29  4200.0   \n",
      "8           109      Vo Thi I   27.0     Male  1995-04-10  3900.0   \n",
      "9           110    Phan Van J   22.0  unknown  1999-12-20     0.0   \n",
      "10          110    Phan Van J   22.0     Male  1999-12-20  3900.0   \n",
      "\n",
      "            email  \n",
      "0   a@example.com  \n",
      "1   b@example.com  \n",
      "2   c@example.com  \n",
      "3   d@example.com  \n",
      "4   e@example.com  \n",
      "5   f@example.com  \n",
      "6   g@example.com  \n",
      "7   h@example.com  \n",
      "8   i@example.com  \n",
      "9   j@example.com  \n",
      "10  j@example.com  \n"
     ]
    }
   ],
   "source": [
    "# Đọc dữ liệu\n",
    "df = pd.read_csv(StringIO(data))\n",
    "\n",
    "# 1a. Kiểm tra dữ liệu thiếu\n",
    "print(\"Dữ liệu thiếu trong từng cột:\")\n",
    "print(df.isnull().sum())\n",
    "\n",
    "# 1b. Xử lý dữ liệu thiếu\n",
    "# - Chuyển 'income' sang số, ép giá trị không hợp lệ thành NaN\n",
    "df['income'] = pd.to_numeric(df['income'], errors='coerce')\n",
    "# - Điền NaN trong 'income' bằng 0\n",
    "df['income'] = df['income'].fillna(0)\n",
    "# - Để xử lý 'age' sau khi sửa bất thường ở câu 2\n",
    "print(\"\\nDataFrame sau khi xử lý dữ liệu thiếu ban đầu:\")\n",
    "print(df)"
   ]
  },
  {
   "cell_type": "code",
   "execution_count": 18,
   "metadata": {},
   "outputs": [
    {
     "name": "stdout",
     "output_type": "stream",
     "text": [
      "\n",
      "DataFrame sau khi sửa lỗi bất thường:\n",
      "    customer_id          name     age   gender         dob  income  \\\n",
      "0           101  Nguyen Van A  25.000     Male  1998-05-22  1200.0   \n",
      "1           102    Tran Thi B  42.000   Female  1981-07-14  4500.0   \n",
      "2           103      Le Van C  29.625     male  12/03/1995  3200.0   \n",
      "3           104  Hoang Minh D  29.625        F  1980/08/25     0.0   \n",
      "4           105    Pham Thi E  30.000      Fem  1993-09-30     0.0   \n",
      "5           106  Nguyen Van F  29.625        M  1996-11-02  2500.0   \n",
      "6           107     Bui Thi G  29.000   Female  1994/06/15  3800.0   \n",
      "7           108    Dang Van H  40.000        f  1990-01-29  4200.0   \n",
      "8           109      Vo Thi I  27.000     Male  1995-04-10  3900.0   \n",
      "9           110    Phan Van J  22.000  unknown  1999-12-20     0.0   \n",
      "10          110    Phan Van J  22.000     Male  1999-12-20  3900.0   \n",
      "\n",
      "            email  \n",
      "0   a@example.com  \n",
      "1   b@example.com  \n",
      "2   c@example.com  \n",
      "3   d@example.com  \n",
      "4   e@example.com  \n",
      "5   f@example.com  \n",
      "6   g@example.com  \n",
      "7   h@example.com  \n",
      "8   i@example.com  \n",
      "9   j@example.com  \n",
      "10  j@example.com  \n"
     ]
    }
   ],
   "source": [
    "# 2. Phát hiện và sửa lỗi bất thường\n",
    "# - Age âm (<0) hoặc quá lớn (>100): thay bằng NaN\n",
    "df.loc[(df['age'] < 0) | (df['age'] > 100), 'age'] = None\n",
    "# - Điền NaN trong 'age' bằng trung bình của các giá trị hợp lệ\n",
    "age_mean = df['age'].mean()\n",
    "df['age'] = df['age'].fillna(age_mean)\n",
    "\n",
    "# - Income âm: thay bằng 0\n",
    "df.loc[df['income'] < 0, 'income'] = 0\n",
    "\n",
    "print(\"\\nDataFrame sau khi sửa lỗi bất thường:\")\n",
    "print(df)"
   ]
  },
  {
   "cell_type": "code",
   "execution_count": 19,
   "metadata": {},
   "outputs": [
    {
     "name": "stdout",
     "output_type": "stream",
     "text": [
      "\n",
      "DataFrame sau khi chuyển hóa dữ liệu:\n",
      "    customer_id          name     age  gender         dob  income  \\\n",
      "0           101  Nguyen Van A  25.000    Male  1998-05-22  1200.0   \n",
      "1           102    Tran Thi B  42.000  Female  1981-07-14  4500.0   \n",
      "2           103      Le Van C  29.625    Male         NaN  3200.0   \n",
      "3           104  Hoang Minh D  29.625  Female         NaN     0.0   \n",
      "4           105    Pham Thi E  30.000  Female  1993-09-30     0.0   \n",
      "5           106  Nguyen Van F  29.625    Male  1996-11-02  2500.0   \n",
      "6           107     Bui Thi G  29.000  Female         NaN  3800.0   \n",
      "7           108    Dang Van H  40.000  Female  1990-01-29  4200.0   \n",
      "8           109      Vo Thi I  27.000    Male  1995-04-10  3900.0   \n",
      "9           110    Phan Van J  22.000    None  1999-12-20     0.0   \n",
      "10          110    Phan Van J  22.000    Male  1999-12-20  3900.0   \n",
      "\n",
      "            email  \n",
      "0   a@example.com  \n",
      "1   b@example.com  \n",
      "2   c@example.com  \n",
      "3   d@example.com  \n",
      "4   e@example.com  \n",
      "5   f@example.com  \n",
      "6   g@example.com  \n",
      "7   h@example.com  \n",
      "8   i@example.com  \n",
      "9   j@example.com  \n",
      "10  j@example.com  \n"
     ]
    }
   ],
   "source": [
    "# 3. Chuyển hóa dữ liệu\n",
    "# - Chuẩn hóa ngày sinh\n",
    "df['dob'] = pd.to_datetime(df['dob'], errors='coerce').dt.strftime('%Y-%m-%d')\n",
    "\n",
    "# - Chuẩn hóa gender\n",
    "def standardize_gender(g):\n",
    "    g = str(g).lower()\n",
    "    if g in ['m', 'male']:\n",
    "        return 'Male'\n",
    "    elif g in ['f', 'female', 'fem']:\n",
    "        return 'Female'\n",
    "    return None\n",
    "\n",
    "df['gender'] = df['gender'].apply(standardize_gender)\n",
    "\n",
    "print(\"\\nDataFrame sau khi chuyển hóa dữ liệu:\")\n",
    "print(df)"
   ]
  },
  {
   "cell_type": "code",
   "execution_count": 20,
   "metadata": {},
   "outputs": [
    {
     "name": "stdout",
     "output_type": "stream",
     "text": [
      "\n",
      "DataFrame sau khi xóa trùng lặp:\n",
      "    customer_id          name     age  gender         dob  income  \\\n",
      "0           101  Nguyen Van A  25.000    Male  1998-05-22  1200.0   \n",
      "1           102    Tran Thi B  42.000  Female  1981-07-14  4500.0   \n",
      "2           103      Le Van C  29.625    Male         NaN  3200.0   \n",
      "3           104  Hoang Minh D  29.625  Female         NaN     0.0   \n",
      "4           105    Pham Thi E  30.000  Female  1993-09-30     0.0   \n",
      "5           106  Nguyen Van F  29.625    Male  1996-11-02  2500.0   \n",
      "6           107     Bui Thi G  29.000  Female         NaN  3800.0   \n",
      "7           108    Dang Van H  40.000  Female  1990-01-29  4200.0   \n",
      "8           109      Vo Thi I  27.000    Male  1995-04-10  3900.0   \n",
      "10          110    Phan Van J  22.000    Male  1999-12-20  3900.0   \n",
      "\n",
      "            email  \n",
      "0   a@example.com  \n",
      "1   b@example.com  \n",
      "2   c@example.com  \n",
      "3   d@example.com  \n",
      "4   e@example.com  \n",
      "5   f@example.com  \n",
      "6   g@example.com  \n",
      "7   h@example.com  \n",
      "8   i@example.com  \n",
      "10  j@example.com  \n"
     ]
    }
   ],
   "source": [
    "# 4. Xóa trùng lặp\n",
    "df_cleaned = df.drop_duplicates(subset=['customer_id', 'name'], keep='last')\n",
    "\n",
    "print(\"\\nDataFrame sau khi xóa trùng lặp:\")\n",
    "print(df_cleaned)"
   ]
  },
  {
   "cell_type": "code",
   "execution_count": 21,
   "metadata": {},
   "outputs": [
    {
     "name": "stdout",
     "output_type": "stream",
     "text": [
      "\n",
      "Đã lưu dữ liệu sạch vào clean_data.csv\n",
      "    customer_id          name     age  gender         dob  income  \\\n",
      "0           101  Nguyen Van A  25.000    Male  1998-05-22  1200.0   \n",
      "1           102    Tran Thi B  42.000  Female  1981-07-14  4500.0   \n",
      "2           103      Le Van C  29.625    Male         NaN  3200.0   \n",
      "3           104  Hoang Minh D  29.625  Female         NaN     0.0   \n",
      "4           105    Pham Thi E  30.000  Female  1993-09-30     0.0   \n",
      "5           106  Nguyen Van F  29.625    Male  1996-11-02  2500.0   \n",
      "6           107     Bui Thi G  29.000  Female         NaN  3800.0   \n",
      "7           108    Dang Van H  40.000  Female  1990-01-29  4200.0   \n",
      "8           109      Vo Thi I  27.000    Male  1995-04-10  3900.0   \n",
      "10          110    Phan Van J  22.000    Male  1999-12-20  3900.0   \n",
      "\n",
      "            email  \n",
      "0   a@example.com  \n",
      "1   b@example.com  \n",
      "2   c@example.com  \n",
      "3   d@example.com  \n",
      "4   e@example.com  \n",
      "5   f@example.com  \n",
      "6   g@example.com  \n",
      "7   h@example.com  \n",
      "8   i@example.com  \n",
      "10  j@example.com  \n"
     ]
    }
   ],
   "source": [
    "# 5. Xuất dữ liệu sạch\n",
    "df_cleaned.to_csv('clean_data.csv', index=False)\n",
    "print(\"\\nĐã lưu dữ liệu sạch vào clean_data.csv\")\n",
    "print(df_cleaned)"
   ]
  }
 ],
 "metadata": {
  "kernelspec": {
   "display_name": "Python 3",
   "language": "python",
   "name": "python3"
  },
  "language_info": {
   "codemirror_mode": {
    "name": "ipython",
    "version": 3
   },
   "file_extension": ".py",
   "mimetype": "text/x-python",
   "name": "python",
   "nbconvert_exporter": "python",
   "pygments_lexer": "ipython3",
   "version": "3.11.6"
  }
 },
 "nbformat": 4,
 "nbformat_minor": 2
}
