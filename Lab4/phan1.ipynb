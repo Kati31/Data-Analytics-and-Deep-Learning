{
 "cells": [
  {
   "cell_type": "markdown",
   "metadata": {},
   "source": [
    "# LAB 4: BÀI THỰC HÀNH CHUẨN BỊ DỮ LIỆU"
   ]
  },
  {
   "cell_type": "markdown",
   "metadata": {},
   "source": [
    "## PHẦN 1: DATA CLEANSING & FEATURE ENGINEERING"
   ]
  },
  {
   "cell_type": "markdown",
   "metadata": {},
   "source": [
    "### 1. Viết hàm load_data() để tải dữ liệu lên ứng dụng. Sau đó, hiển thị ra màn hình 10 dòng đầu tiên.\n"
   ]
  },
  {
   "cell_type": "code",
   "execution_count": 1,
   "metadata": {},
   "outputs": [],
   "source": [
    "import pandas as pd\n",
    "import numpy as np\n",
    "import seaborn as sns\n",
    "import matplotlib.pyplot as plt"
   ]
  },
  {
   "cell_type": "code",
   "execution_count": 4,
   "metadata": {},
   "outputs": [
    {
     "name": "stdout",
     "output_type": "stream",
     "text": [
      "   PassengerId  Survived  Pclass  \\\n",
      "0            1         0       3   \n",
      "1            2         1       1   \n",
      "2            3         1       3   \n",
      "3            4         1       1   \n",
      "4            5         0       3   \n",
      "5            6         0       3   \n",
      "6            7         0       1   \n",
      "7            8         0       3   \n",
      "8            9         1       3   \n",
      "9           10         1       2   \n",
      "\n",
      "                                                Name     Sex   Age  SibSp  \\\n",
      "0                            Braund, Mr. Owen Harris    male  22.0      1   \n",
      "1  Cumings, Mrs. John Bradley (Florence Briggs Th...  female  38.0      1   \n",
      "2                             Heikkinen, Miss. Laina  female  26.0      0   \n",
      "3       Futrelle, Mrs. Jacques Heath (Lily May Peel)  female  35.0      1   \n",
      "4                           Allen, Mr. William Henry    male  35.0      0   \n",
      "5                                   Moran, Mr. James    male   NaN      0   \n",
      "6                            McCarthy, Mr. Timothy J    male  54.0      0   \n",
      "7                     Palsson, Master. Gosta Leonard    male   2.0      3   \n",
      "8  Johnson, Mrs. Oscar W (Elisabeth Vilhelmina Berg)  female  27.0      0   \n",
      "9                Nasser, Mrs. Nicholas (Adele Achem)  female  14.0      1   \n",
      "\n",
      "   Parch            Ticket     Fare Cabin Embarked  \n",
      "0      0         A/5 21171   7.2500   NaN        S  \n",
      "1      0          PC 17599  71.2833   C85        C  \n",
      "2      0  STON/O2. 3101282   7.9250   NaN        S  \n",
      "3      0            113803  53.1000  C123        S  \n",
      "4      0            373450   8.0500   NaN        S  \n",
      "5      0            330877   8.4583   NaN        Q  \n",
      "6      0             17463  51.8625   E46        S  \n",
      "7      1            349909  21.0750   NaN        S  \n",
      "8      2            347742  11.1333   NaN        S  \n",
      "9      0            237736  30.0708   NaN        C  \n"
     ]
    }
   ],
   "source": [
    "\n",
    "def load_data(filename):\n",
    "    return pd.read_csv(filename)\n",
    "\n",
    "filename = \"tidisater.csv\"\n",
    "tidisater = load_data(filename)\n",
    "print(tidisater.head(10))\n"
   ]
  },
  {
   "cell_type": "markdown",
   "metadata": {},
   "source": [
    "# 2. Thống kê dữ liệu thiếu trên các biến số và trực quan hóa dữ liệu thiếu bằng biểu đồ (Heatmap). Hãy cho nhận xét về tình trạng thiếu dữ liệu Age, Cabin và Embarked"
   ]
  },
  {
   "cell_type": "code",
   "execution_count": 5,
   "metadata": {},
   "outputs": [
    {
     "name": "stdout",
     "output_type": "stream",
     "text": [
      "PassengerId    177\n",
      "Survived       177\n",
      "Pclass         177\n",
      "Name           177\n",
      "Sex            177\n",
      "Age              0\n",
      "SibSp          177\n",
      "Parch          177\n",
      "Ticket         177\n",
      "Fare           177\n",
      "Cabin           19\n",
      "Embarked       177\n",
      "dtype: int64\n"
     ]
    }
   ],
   "source": [
    "dfage = tidisater[tidisater['Age'].isna()]\n",
    "print(dfage.count())"
   ]
  },
  {
   "cell_type": "code",
   "execution_count": 6,
   "metadata": {},
   "outputs": [
    {
     "name": "stdout",
     "output_type": "stream",
     "text": [
      "PassengerId    687\n",
      "Survived       687\n",
      "Pclass         687\n",
      "Name           687\n",
      "Sex            687\n",
      "Age            529\n",
      "SibSp          687\n",
      "Parch          687\n",
      "Ticket         687\n",
      "Fare           687\n",
      "Cabin            0\n",
      "Embarked       687\n",
      "dtype: int64\n"
     ]
    }
   ],
   "source": [
    "dfcabin = tidisater[tidisater['Cabin'].isna()]\n",
    "print(dfcabin.count())"
   ]
  },
  {
   "cell_type": "code",
   "execution_count": 7,
   "metadata": {},
   "outputs": [
    {
     "name": "stdout",
     "output_type": "stream",
     "text": [
      "PassengerId    2\n",
      "Survived       2\n",
      "Pclass         2\n",
      "Name           2\n",
      "Sex            2\n",
      "Age            2\n",
      "SibSp          2\n",
      "Parch          2\n",
      "Ticket         2\n",
      "Fare           2\n",
      "Cabin          2\n",
      "Embarked       0\n",
      "dtype: int64\n"
     ]
    }
   ],
   "source": [
    "dfembarked = tidisater[tidisater['Embarked'].isna()]\n",
    "print(dfembarked.count())"
   ]
  },
  {
   "cell_type": "markdown",
   "metadata": {},
   "source": [
    "### Trực quan hóa bằng heatmap"
   ]
  },
  {
   "cell_type": "code",
   "execution_count": 8,
   "metadata": {},
   "outputs": [
    {
     "data": {
      "text/plain": [
       "<Axes: >"
      ]
     },
     "execution_count": 8,
     "metadata": {},
     "output_type": "execute_result"
    },
    {
     "data": {
      "image/png": "[encoded data removed]",
      "text/plain": [
       "<Figure size 640x480 with 2 Axes>"
      ]
     },
     "metadata": {},
     "output_type": "display_data"
    }
   ],
   "source": [
    "import seaborn as sns\n",
    "sns.heatmap(tidisater.isna(), cmap='viridis')"
   ]
  },
  {
   "cell_type": "markdown",
   "metadata": {},
   "source": [
    "# 3. Xử lý tên cột tên Name, tách ra làm 2 cột: firstName và secondName. Lưu ý: Sau khi tách cột xong thì xóa luôn cột Name"
   ]
  },
  {
   "cell_type": "code",
   "execution_count": 9,
   "metadata": {},
   "outputs": [
    {
     "data": {
      "text/html": [
       "<div>\n",
       "<style scoped>\n",
       "    .dataframe tbody tr th:only-of-type {\n",
       "        vertical-align: middle;\n",
       "    }\n",
       "\n",
       "    .dataframe tbody tr th {\n",
       "        vertical-align: top;\n",
       "    }\n",
       "\n",
       "    .dataframe thead th {\n",
       "        text-align: right;\n",
       "    }\n",
       "</style>\n",
       "<table border=\"1\" class=\"dataframe\">\n",
       "  <thead>\n",
       "    <tr style=\"text-align: right;\">\n",
       "      <th></th>\n",
       "      <th>PassengerId</th>\n",
       "      <th>Survived</th>\n",
       "      <th>Pclass</th>\n",
       "      <th>Sex</th>\n",
       "      <th>Age</th>\n",
       "      <th>SibSp</th>\n",
       "      <th>Parch</th>\n",
       "      <th>Ticket</th>\n",
       "      <th>Fare</th>\n",
       "      <th>Cabin</th>\n",
       "      <th>Embarked</th>\n",
       "      <th>firstName</th>\n",
       "      <th>secondName</th>\n",
       "    </tr>\n",
       "  </thead>\n",
       "  <tbody>\n",
       "    <tr>\n",
       "      <th>0</th>\n",
       "      <td>1</td>\n",
       "      <td>0</td>\n",
       "      <td>3</td>\n",
       "      <td>male</td>\n",
       "      <td>22.0</td>\n",
       "      <td>1</td>\n",
       "      <td>0</td>\n",
       "      <td>A/5 21171</td>\n",
       "      <td>7.2500</td>\n",
       "      <td>NaN</td>\n",
       "      <td>S</td>\n",
       "      <td>Braund</td>\n",
       "      <td>Mr. Owen Harris</td>\n",
       "    </tr>\n",
       "    <tr>\n",
       "      <th>1</th>\n",
       "      <td>2</td>\n",
       "      <td>1</td>\n",
       "      <td>1</td>\n",
       "      <td>female</td>\n",
       "      <td>38.0</td>\n",
       "      <td>1</td>\n",
       "      <td>0</td>\n",
       "      <td>PC 17599</td>\n",
       "      <td>71.2833</td>\n",
       "      <td>C85</td>\n",
       "      <td>C</td>\n",
       "      <td>Cumings</td>\n",
       "      <td>Mrs. John Bradley (Florence Briggs Thayer)</td>\n",
       "    </tr>\n",
       "    <tr>\n",
       "      <th>2</th>\n",
       "      <td>3</td>\n",
       "      <td>1</td>\n",
       "      <td>3</td>\n",
       "      <td>female</td>\n",
       "      <td>26.0</td>\n",
       "      <td>0</td>\n",
       "      <td>0</td>\n",
       "      <td>STON/O2. 3101282</td>\n",
       "      <td>7.9250</td>\n",
       "      <td>NaN</td>\n",
       "      <td>S</td>\n",
       "      <td>Heikkinen</td>\n",
       "      <td>Miss. Laina</td>\n",
       "    </tr>\n",
       "    <tr>\n",
       "      <th>3</th>\n",
       "      <td>4</td>\n",
       "      <td>1</td>\n",
       "      <td>1</td>\n",
       "      <td>female</td>\n",
       "      <td>35.0</td>\n",
       "      <td>1</td>\n",
       "      <td>0</td>\n",
       "      <td>113803</td>\n",
       "      <td>53.1000</td>\n",
       "      <td>C123</td>\n",
       "      <td>S</td>\n",
       "      <td>Futrelle</td>\n",
       "      <td>Mrs. Jacques Heath (Lily May Peel)</td>\n",
       "    </tr>\n",
       "    <tr>\n",
       "      <th>4</th>\n",
       "      <td>5</td>\n",
       "      <td>0</td>\n",
       "      <td>3</td>\n",
       "      <td>male</td>\n",
       "      <td>35.0</td>\n",
       "      <td>0</td>\n",
       "      <td>0</td>\n",
       "      <td>373450</td>\n",
       "      <td>8.0500</td>\n",
       "      <td>NaN</td>\n",
       "      <td>S</td>\n",
       "      <td>Allen</td>\n",
       "      <td>Mr. William Henry</td>\n",
       "    </tr>\n",
       "  </tbody>\n",
       "</table>\n",
       "</div>"
      ],
      "text/plain": [
       "   PassengerId  Survived  Pclass     Sex   Age  SibSp  Parch  \\\n",
       "0            1         0       3    male  22.0      1      0   \n",
       "1            2         1       1  female  38.0      1      0   \n",
       "2            3         1       3  female  26.0      0      0   \n",
       "3            4         1       1  female  35.0      1      0   \n",
       "4            5         0       3    male  35.0      0      0   \n",
       "\n",
       "             Ticket     Fare Cabin Embarked  firstName  \\\n",
       "0         A/5 21171   7.2500   NaN        S     Braund   \n",
       "1          PC 17599  71.2833   C85        C    Cumings   \n",
       "2  STON/O2. 3101282   7.9250   NaN        S  Heikkinen   \n",
       "3            113803  53.1000  C123        S   Futrelle   \n",
       "4            373450   8.0500   NaN        S      Allen   \n",
       "\n",
       "                                    secondName  \n",
       "0                              Mr. Owen Harris  \n",
       "1   Mrs. John Bradley (Florence Briggs Thayer)  \n",
       "2                                  Miss. Laina  \n",
       "3           Mrs. Jacques Heath (Lily May Peel)  \n",
       "4                            Mr. William Henry  "
      ]
     },
     "execution_count": 9,
     "metadata": {},
     "output_type": "execute_result"
    }
   ],
   "source": [
    "tidisater[['firstName','secondName']]=tidisater['Name'].str.split(',',expand=True)\n",
    "tidisater_splitname = tidisater.drop(\"Name\", axis=1)\n",
    "tidisater_splitname.head(5)"
   ]
  },
  {
   "cell_type": "markdown",
   "metadata": {},
   "source": [
    "# 4. Xứ lý rút gọn kích thước dữ liệu trên cột Sex như sau: thay thế male → M và female → F\n"
   ]
  },
  {
   "cell_type": "code",
   "execution_count": 10,
   "metadata": {},
   "outputs": [
    {
     "data": {
      "text/html": [
       "<div>\n",
       "<style scoped>\n",
       "    .dataframe tbody tr th:only-of-type {\n",
       "        vertical-align: middle;\n",
       "    }\n",
       "\n",
       "    .dataframe tbody tr th {\n",
       "        vertical-align: top;\n",
       "    }\n",
       "\n",
       "    .dataframe thead th {\n",
       "        text-align: right;\n",
       "    }\n",
       "</style>\n",
       "<table border=\"1\" class=\"dataframe\">\n",
       "  <thead>\n",
       "    <tr style=\"text-align: right;\">\n",
       "      <th></th>\n",
       "      <th>PassengerId</th>\n",
       "      <th>Survived</th>\n",
       "      <th>Pclass</th>\n",
       "      <th>Sex</th>\n",
       "      <th>Age</th>\n",
       "      <th>SibSp</th>\n",
       "      <th>Parch</th>\n",
       "      <th>Ticket</th>\n",
       "      <th>Fare</th>\n",
       "      <th>Cabin</th>\n",
       "      <th>Embarked</th>\n",
       "      <th>firstName</th>\n",
       "      <th>secondName</th>\n",
       "    </tr>\n",
       "  </thead>\n",
       "  <tbody>\n",
       "    <tr>\n",
       "      <th>0</th>\n",
       "      <td>1</td>\n",
       "      <td>0</td>\n",
       "      <td>3</td>\n",
       "      <td>M</td>\n",
       "      <td>22.0</td>\n",
       "      <td>1</td>\n",
       "      <td>0</td>\n",
       "      <td>A/5 21171</td>\n",
       "      <td>7.2500</td>\n",
       "      <td>NaN</td>\n",
       "      <td>S</td>\n",
       "      <td>Braund</td>\n",
       "      <td>Mr. Owen Harris</td>\n",
       "    </tr>\n",
       "    <tr>\n",
       "      <th>1</th>\n",
       "      <td>2</td>\n",
       "      <td>1</td>\n",
       "      <td>1</td>\n",
       "      <td>F</td>\n",
       "      <td>38.0</td>\n",
       "      <td>1</td>\n",
       "      <td>0</td>\n",
       "      <td>PC 17599</td>\n",
       "      <td>71.2833</td>\n",
       "      <td>C85</td>\n",
       "      <td>C</td>\n",
       "      <td>Cumings</td>\n",
       "      <td>Mrs. John Bradley (Florence Briggs Thayer)</td>\n",
       "    </tr>\n",
       "    <tr>\n",
       "      <th>2</th>\n",
       "      <td>3</td>\n",
       "      <td>1</td>\n",
       "      <td>3</td>\n",
       "      <td>F</td>\n",
       "      <td>26.0</td>\n",
       "      <td>0</td>\n",
       "      <td>0</td>\n",
       "      <td>STON/O2. 3101282</td>\n",
       "      <td>7.9250</td>\n",
       "      <td>NaN</td>\n",
       "      <td>S</td>\n",
       "      <td>Heikkinen</td>\n",
       "      <td>Miss. Laina</td>\n",
       "    </tr>\n",
       "    <tr>\n",
       "      <th>3</th>\n",
       "      <td>4</td>\n",
       "      <td>1</td>\n",
       "      <td>1</td>\n",
       "      <td>F</td>\n",
       "      <td>35.0</td>\n",
       "      <td>1</td>\n",
       "      <td>0</td>\n",
       "      <td>113803</td>\n",
       "      <td>53.1000</td>\n",
       "      <td>C123</td>\n",
       "      <td>S</td>\n",
       "      <td>Futrelle</td>\n",
       "      <td>Mrs. Jacques Heath (Lily May Peel)</td>\n",
       "    </tr>\n",
       "    <tr>\n",
       "      <th>4</th>\n",
       "      <td>5</td>\n",
       "      <td>0</td>\n",
       "      <td>3</td>\n",
       "      <td>M</td>\n",
       "      <td>35.0</td>\n",
       "      <td>0</td>\n",
       "      <td>0</td>\n",
       "      <td>373450</td>\n",
       "      <td>8.0500</td>\n",
       "      <td>NaN</td>\n",
       "      <td>S</td>\n",
       "      <td>Allen</td>\n",
       "      <td>Mr. William Henry</td>\n",
       "    </tr>\n",
       "  </tbody>\n",
       "</table>\n",
       "</div>"
      ],
      "text/plain": [
       "   PassengerId  Survived  Pclass Sex   Age  SibSp  Parch            Ticket  \\\n",
       "0            1         0       3   M  22.0      1      0         A/5 21171   \n",
       "1            2         1       1   F  38.0      1      0          PC 17599   \n",
       "2            3         1       3   F  26.0      0      0  STON/O2. 3101282   \n",
       "3            4         1       1   F  35.0      1      0            113803   \n",
       "4            5         0       3   M  35.0      0      0            373450   \n",
       "\n",
       "      Fare Cabin Embarked  firstName  \\\n",
       "0   7.2500   NaN        S     Braund   \n",
       "1  71.2833   C85        C    Cumings   \n",
       "2   7.9250   NaN        S  Heikkinen   \n",
       "3  53.1000  C123        S   Futrelle   \n",
       "4   8.0500   NaN        S      Allen   \n",
       "\n",
       "                                    secondName  \n",
       "0                              Mr. Owen Harris  \n",
       "1   Mrs. John Bradley (Florence Briggs Thayer)  \n",
       "2                                  Miss. Laina  \n",
       "3           Mrs. Jacques Heath (Lily May Peel)  \n",
       "4                            Mr. William Henry  "
      ]
     },
     "execution_count": 10,
     "metadata": {},
     "output_type": "execute_result"
    }
   ],
   "source": [
    "def substitute_Sex(x_df):\n",
    "    mapping = {'male':'M', 'female':'F'}\n",
    "    x_df['Sex'] = x_df['Sex'].map(mapping)\n",
    "    return x_df\n",
    "\n",
    "tidisater5 = tidisater_splitname.pipe(substitute_Sex)\n",
    "tidisater5.head(5)\n"
   ]
  },
  {
   "cell_type": "markdown",
   "metadata": {},
   "source": [
    "# 5. Xử lý dữ liệu thiếu trên biến Age bằng cách thay thế bằng giá trị trung bình tuổi: Hãy đưara quyết định dùng giá trị trung bình tuổi toàn bộ hành khách hay theo từng nhóm hạng vé (hạng hành khách: Pclass). Ta tiến hành làm các bước sau\n",
    "### a. Sử dụng Seaborn để vẽ biểu đồ (Box plot) trực quan dữ liệu để xác định phânphối tuổi trên từng hạng hành khách. Nhận xét về tuổi trung bình giữa các nhóm hành khách. Từ đó đưa ra quyết định cách thay thế giá trị tuổi bị thiếu.\n"
   ]
  },
  {
   "cell_type": "code",
   "execution_count": 11,
   "metadata": {},
   "outputs": [
    {
     "data": {
      "text/plain": [
       "<Axes: xlabel='Pclass', ylabel='Age'>"
      ]
     },
     "execution_count": 11,
     "metadata": {},
     "output_type": "execute_result"
    },
    {
     "data": {
      "image/png": "[encoded data removed]",
      "text/plain": [
       "<Figure size 640x480 with 1 Axes>"
      ]
     },
     "metadata": {},
     "output_type": "display_data"
    }
   ],
   "source": [
    "sns.boxplot(y='Age', x='Pclass', data=tidisater5)\n"
   ]
  },
  {
   "cell_type": "markdown",
   "metadata": {},
   "source": [
    "### b. Tiến hành thay thế giá trị Age bị thiếu. Sau đó, hiển thị kết quả dạng bảng và trực quan dữ liệu đã xử lý thiếu cho cột’Age’ bằng biểu đồ Heat map"
   ]
  },
  {
   "cell_type": "code",
   "execution_count": 12,
   "metadata": {},
   "outputs": [
    {
     "data": {
      "text/plain": [
       "0      22.0\n",
       "2      26.0\n",
       "4      35.0\n",
       "5      24.0\n",
       "7       2.0\n",
       "       ... \n",
       "882    22.0\n",
       "884    25.0\n",
       "885    39.0\n",
       "888    24.0\n",
       "890    32.0\n",
       "Name: Age, Length: 491, dtype: float64"
      ]
     },
     "execution_count": 12,
     "metadata": {},
     "output_type": "execute_result"
    }
   ],
   "source": [
    "tidisater5['Age'][tidisater5['Pclass']==1].fillna(tidisater5['Age'][tidisater5['Pclass']==1].median(), inplace=False)\n",
    "tidisater5['Age'][tidisater5['Pclass']==2].fillna(tidisater5['Age'][tidisater5['Pclass']==2].median(), inplace=False)\n",
    "tidisater5['Age'][tidisater5['Pclass']==3].fillna(tidisater5['Age'][tidisater5['Pclass']==3].median(), inplace=False)"
   ]
  },
  {
   "cell_type": "markdown",
   "metadata": {},
   "source": [
    "# 6. Xây dựng biến số Agegroup có thang đo thứ tự được ánh xạ theo thang đo khoảng dựa trên độ tuổi của hành khách như sau: (age =< 12] → Kid; (12, 18]: Teen, (18, 60]: Adult và ( age > 60): Older"
   ]
  },
  {
   "cell_type": "code",
   "execution_count": 26,
   "metadata": {},
   "outputs": [
    {
     "name": "stdout",
     "output_type": "stream",
     "text": [
      "    Age Agegroup\n",
      "0  22.0    Adult\n",
      "1  38.0    Adult\n",
      "2  26.0    Adult\n",
      "3  35.0    Adult\n",
      "4  35.0    Adult\n",
      "5   NaN  Unknown\n",
      "6  54.0    Adult\n",
      "7   2.0      Kid\n",
      "8  27.0    Adult\n",
      "9  14.0     Teen\n"
     ]
    }
   ],
   "source": [
    "tidisater5.loc[tidisater5['Age'] <= 12, 'Agegroup'] = 'Kid'\n",
    "tidisater5.loc[(tidisater5['Age'] > 12) & (tidisater5['Age'] <= 18), 'Agegroup'] = 'Teen'\n",
    "tidisater5.loc[(tidisater5['Age'] > 18) & (tidisater5['Age'] <= 60), 'Agegroup'] = 'Adult'\n",
    "tidisater5.loc[tidisater5['Age'] > 60, 'Agegroup'] = 'Older'\n",
    "tidisater5['Agegroup'] = tidisater5['Agegroup'].fillna('Unknown')\n",
    "print(tidisater5[['Age', 'Agegroup']].head(10))"
   ]
  },
  {
   "cell_type": "markdown",
   "metadata": {},
   "source": [
    "# 7. Tiến hành thêm đặc trưng về danh xưng (namePrefix) trong xã hội bằng cách tách Mr, Mrs, Miss, Master ra khỏi “secondName”\n"
   ]
  },
  {
   "cell_type": "code",
   "execution_count": 15,
   "metadata": {},
   "outputs": [
    {
     "name": "stdout",
     "output_type": "stream",
     "text": [
      "     PassengerId  Survived  Pclass Sex   Age  SibSp  Parch            Ticket  \\\n",
      "0              1         0       3   M  22.0      1      0         A/5 21171   \n",
      "1              2         1       1   F  38.0      1      0          PC 17599   \n",
      "2              3         1       3   F  26.0      0      0  STON/O2. 3101282   \n",
      "3              4         1       1   F  35.0      1      0            113803   \n",
      "4              5         0       3   M  35.0      0      0            373450   \n",
      "..           ...       ...     ...  ..   ...    ...    ...               ...   \n",
      "886          887         0       2   M  27.0      0      0            211536   \n",
      "887          888         1       1   F  19.0      0      0            112053   \n",
      "888          889         0       3   F   NaN      1      2        W./C. 6607   \n",
      "889          890         1       1   M  26.0      0      0            111369   \n",
      "890          891         0       3   M  32.0      0      0            370376   \n",
      "\n",
      "        Fare Cabin Embarked  firstName  \\\n",
      "0     7.2500   NaN        S     Braund   \n",
      "1    71.2833   C85        C    Cumings   \n",
      "2     7.9250   NaN        S  Heikkinen   \n",
      "3    53.1000  C123        S   Futrelle   \n",
      "4     8.0500   NaN        S      Allen   \n",
      "..       ...   ...      ...        ...   \n",
      "886  13.0000   NaN        S   Montvila   \n",
      "887  30.0000   B42        S     Graham   \n",
      "888  23.4500   NaN        S   Johnston   \n",
      "889  30.0000  C148        C       Behr   \n",
      "890   7.7500   NaN        Q     Dooley   \n",
      "\n",
      "                                      secondName  \\\n",
      "0                                Mr. Owen Harris   \n",
      "1     Mrs. John Bradley (Florence Briggs Thayer)   \n",
      "2                                    Miss. Laina   \n",
      "3             Mrs. Jacques Heath (Lily May Peel)   \n",
      "4                              Mr. William Henry   \n",
      "..                                           ...   \n",
      "886                                  Rev. Juozas   \n",
      "887                         Miss. Margaret Edith   \n",
      "888               Miss. Catherine Helen \"Carrie\"   \n",
      "889                              Mr. Karl Howell   \n",
      "890                                  Mr. Patrick   \n",
      "\n",
      "                                    namePrefix  \n",
      "0                               r. Owen Harris  \n",
      "1    rs. John Bradley (Florence Briggs Thayer)  \n",
      "2                                   iss. Laina  \n",
      "3            rs. Jacques Heath (Lily May Peel)  \n",
      "4                             r. William Henry  \n",
      "..                                         ...  \n",
      "886                                 ev. Juozas  \n",
      "887                        iss. Margaret Edith  \n",
      "888              iss. Catherine Helen \"Carrie\"  \n",
      "889                             r. Karl Howell  \n",
      "890                                 r. Patrick  \n",
      "\n",
      "[891 rows x 14 columns]\n"
     ]
    }
   ],
   "source": [
    "listNamePrefix=[]\n",
    "for index, row in tidisater5.iterrows():\n",
    "    vitri = row['secondName'].find(' ')\n",
    "    secondname = row['secondName'].strip()\n",
    "    namePrefix=secondname[vitri+1:]\n",
    "    listNamePrefix.append(namePrefix)\n",
    "\n",
    "cotNamePrefix=pd.DataFrame(listNamePrefix, columns=['namePrefix'])\n",
    "tidisater5=pd.concat([tidisater5, cotNamePrefix], axis=1, sort=False)\n",
    "print(tidisater5)"
   ]
  },
  {
   "cell_type": "markdown",
   "metadata": {},
   "source": [
    "# 8. Khai thác thêm thông tin số lượng thành viên đi theo nhóm thân quen (familySize) đối với mỗi hành khách trên chuyến hải trình; family size = 1+ SibSp + Parch"
   ]
  },
  {
   "cell_type": "code",
   "execution_count": 27,
   "metadata": {},
   "outputs": [
    {
     "name": "stdout",
     "output_type": "stream",
     "text": [
      "Câu 8 - Kết quả familySize:\n",
      "   SibSp  Parch  familySize\n",
      "0      1      0           2\n",
      "1      1      0           2\n",
      "2      0      0           1\n",
      "3      1      0           2\n",
      "4      0      0           1\n"
     ]
    }
   ],
   "source": [
    "tidisater5['familySize'] = 1 + tidisater5['SibSp'] + tidisater5['Parch']\n",
    "print(\"Câu 8 - Kết quả familySize:\")\n",
    "print(tidisater5[['SibSp', 'Parch', 'familySize']].head(5))"
   ]
  },
  {
   "cell_type": "markdown",
   "metadata": {},
   "source": [
    "# 9. Tạo thêm đặc trưng ‘Alone’ để xác định hành khách đi theo nhóm hay cá nhân bằng cách dựa trên familySize như sau: Nếu familySize = 0 thì giá trị Alone = 1 và ngược lại là 0."
   ]
  },
  {
   "cell_type": "code",
   "execution_count": 28,
   "metadata": {},
   "outputs": [
    {
     "name": "stdout",
     "output_type": "stream",
     "text": [
      "\n",
      "Câu 9 - Kết quả Alone:\n",
      "   familySize  Alone\n",
      "0           2      0\n",
      "1           2      0\n",
      "2           1      1\n",
      "3           2      0\n",
      "4           1      1\n"
     ]
    }
   ],
   "source": [
    "tidisater5['Alone'] = np.where(tidisater5['familySize'] == 1, 1, 0)\n",
    "print(\"\\nCâu 9 - Kết quả Alone:\")\n",
    "print(tidisater5[['familySize', 'Alone']].head(5))"
   ]
  },
  {
   "cell_type": "markdown",
   "metadata": {},
   "source": [
    "# 10. Tiến hành tách loại cabin (typeCabin) mà hành khách ở để lọc và phân tích đặc tínhcabin. Loại cabin được kí hiệu bởi chữ cái đầu tiên. Lưu ý: Đối với dữ liệu cabin bị thiếu thì thay thế bằng “Unknown”"
   ]
  },
  {
   "cell_type": "code",
   "execution_count": 29,
   "metadata": {},
   "outputs": [
    {
     "name": "stdout",
     "output_type": "stream",
     "text": [
      "\n",
      "Câu 10 - Kết quả typeCabin:\n",
      "  Cabin typeCabin\n",
      "0   NaN         U\n",
      "1   C85         C\n",
      "2   NaN         U\n",
      "3  C123         C\n",
      "4   NaN         U\n"
     ]
    }
   ],
   "source": [
    "tidisater5['typeCabin'] = tidisater5['Cabin'].fillna('Unknown').str[0]\n",
    "print(\"\\nCâu 10 - Kết quả typeCabin:\")\n",
    "print(tidisater5[['Cabin', 'typeCabin']].head(5))"
   ]
  },
  {
   "cell_type": "markdown",
   "metadata": {},
   "source": [
    "# 11. Loại bỏ dữ liệu thừa đối với các hành khách xuất hiện trong cả 2 tập dữ liệu huấn luyện (train.csv) và đánh giá (test.csv). Ưu tiên giữ lại dữ liệu trong tập huấn luyện."
   ]
  },
  {
   "cell_type": "code",
   "execution_count": 30,
   "metadata": {},
   "outputs": [
    {
     "name": "stdout",
     "output_type": "stream",
     "text": [
      "\n",
      "Câu 11 - Trước khi loại bỏ trùng lặp:\n",
      "Số lượng bản ghi: 891\n",
      "Sau khi loại bỏ trùng lặp:\n",
      "Số lượng bản ghi: 891\n",
      "   PassengerId  Survived  Pclass Sex   Age  SibSp  Parch            Ticket  \\\n",
      "0            1         0       3   M  22.0      1      0         A/5 21171   \n",
      "1            2         1       1   F  38.0      1      0          PC 17599   \n",
      "2            3         1       3   F  26.0      0      0  STON/O2. 3101282   \n",
      "3            4         1       1   F  35.0      1      0            113803   \n",
      "4            5         0       3   M  35.0      0      0            373450   \n",
      "\n",
      "      Fare Cabin Embarked  firstName  \\\n",
      "0   7.2500   NaN        S     Braund   \n",
      "1  71.2833   C85        C    Cumings   \n",
      "2   7.9250   NaN        S  Heikkinen   \n",
      "3  53.1000  C123        S   Futrelle   \n",
      "4   8.0500   NaN        S      Allen   \n",
      "\n",
      "                                    secondName  \\\n",
      "0                              Mr. Owen Harris   \n",
      "1   Mrs. John Bradley (Florence Briggs Thayer)   \n",
      "2                                  Miss. Laina   \n",
      "3           Mrs. Jacques Heath (Lily May Peel)   \n",
      "4                            Mr. William Henry   \n",
      "\n",
      "                                  namePrefix  familySize Agegroup  Alone  \\\n",
      "0                             r. Owen Harris           2    Adult      0   \n",
      "1  rs. John Bradley (Florence Briggs Thayer)           2    Adult      0   \n",
      "2                                 iss. Laina           1    Adult      1   \n",
      "3          rs. Jacques Heath (Lily May Peel)           2    Adult      0   \n",
      "4                           r. William Henry           1    Adult      1   \n",
      "\n",
      "  typeCabin  \n",
      "0         U  \n",
      "1         C  \n",
      "2         U  \n",
      "3         C  \n",
      "4         U  \n"
     ]
    }
   ],
   "source": [
    "print(\"\\nCâu 11 - Trước khi loại bỏ trùng lặp:\")\n",
    "print(f\"Số lượng bản ghi: {len(tidisater5)}\")\n",
    "tidisater5_cleaned = tidisater5.drop_duplicates(subset=['PassengerId'], keep='first')\n",
    "print(\"Sau khi loại bỏ trùng lặp:\")\n",
    "print(f\"Số lượng bản ghi: {len(tidisater5_cleaned)}\")\n",
    "print(tidisater5_cleaned.head(5))"
   ]
  }
 ],
 "metadata": {
  "kernelspec": {
   "display_name": "Python 3",
   "language": "python",
   "name": "python3"
  },
  "language_info": {
   "codemirror_mode": {
    "name": "ipython",
    "version": 3
   },
   "file_extension": ".py",
   "mimetype": "text/x-python",
   "name": "python",
   "nbconvert_exporter": "python",
   "pygments_lexer": "ipython3",
   "version": "3.11.6"
  }
 },
 "nbformat": 4,
 "nbformat_minor": 2
}
